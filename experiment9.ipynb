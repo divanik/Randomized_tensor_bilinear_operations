{
 "cells": [
  {
   "cell_type": "code",
   "execution_count": 147,
   "metadata": {},
   "outputs": [],
   "source": [
    "import tt\n",
    "import numpy as np"
   ]
  },
  {
   "cell_type": "code",
   "execution_count": 148,
   "metadata": {},
   "outputs": [],
   "source": [
    "def create_inverse_index_sums_tensorized(n, d, QTT_d):\n",
    "    nats = tt.vector.to_list(tt.xfun(n, QTT_d))\n",
    "    base = tt.vector.to_list(tt.ones(n, QTT_d * d))\n",
    "    X = []\n",
    "    for i in range(d):\n",
    "        tmp = base.copy()\n",
    "        for j in range(QTT_d):\n",
    "            tmp[i * QTT_d + j] = nats[j].copy()\n",
    "        X.append(tt.vector.from_list(tmp))\n",
    "    c = tt.multifuncrs2(X, lambda x: 1 / (1 + np.sum(x, axis = 1)), eps=1E-6, verb=0)\n",
    "    return c"
   ]
  },
  {
   "cell_type": "code",
   "execution_count": 153,
   "metadata": {},
   "outputs": [],
   "source": [
    "from bilinear_package.src.hadamard_product import approximateHadamardProduct\n",
    "\n",
    "def experiment():\n",
    "    c = create_inverse_index_sums_tensorized(2, 3, 15)\n",
    "    X = c * c\n",
    "    norm = tt.vector.norm(X)\n",
    "    for rank in range(20, 61, 5):\n",
    "        ranks = [rank for _ in range(len(tt.vector.to_list(c)) - 1)]\n",
    "        answer = approximateHadamardProduct(tt.vector.to_list(c), tt.vector.to_list(c), desired_ranks = ranks, seed=81 + rank)\n",
    "        answer = tt.vector.from_list(answer)\n",
    "        print(f\"rank = {rank}, norm = {tt.vector.norm(X - answer) / norm}\")"
   ]
  },
  {
   "cell_type": "code",
   "execution_count": 154,
   "metadata": {},
   "outputs": [
    {
     "name": "stdout",
     "output_type": "stream",
     "text": [
      "rank = 20, norm = 2.0961272619847963e-06\n",
      "rank = 25, norm = 5.880438450560633e-08\n",
      "rank = 30, norm = 1.544584541648785e-09\n",
      "rank = 35, norm = 2.3110814091431306e-10\n",
      "rank = 40, norm = 5.0162597269391766e-11\n",
      "rank = 45, norm = 1.2763484356306712e-11\n",
      "rank = 50, norm = 4.814256619790413e-12\n",
      "rank = 55, norm = 2.288342742638243e-12\n",
      "rank = 60, norm = 1.033006595423175e-12\n"
     ]
    }
   ],
   "source": [
    "experiment()"
   ]
  }
 ],
 "metadata": {
  "kernelspec": {
   "display_name": "Python 3.8.10 64-bit",
   "language": "python",
   "name": "python3"
  },
  "language_info": {
   "codemirror_mode": {
    "name": "ipython",
    "version": 3
   },
   "file_extension": ".py",
   "mimetype": "text/x-python",
   "name": "python",
   "nbconvert_exporter": "python",
   "pygments_lexer": "ipython3",
   "version": "3.8.10"
  },
  "orig_nbformat": 4,
  "vscode": {
   "interpreter": {
    "hash": "916dbcbb3f70747c44a77c7bcd40155683ae19c65e1c03b4aa3499c5328201f1"
   }
  }
 },
 "nbformat": 4,
 "nbformat_minor": 2
}
