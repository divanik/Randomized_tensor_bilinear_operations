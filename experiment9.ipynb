{
 "cells": [
  {
   "cell_type": "code",
   "execution_count": 147,
   "metadata": {},
   "outputs": [],
   "source": [
    "import tt\n",
    "import numpy as np"
   ]
  },
  {
   "cell_type": "code",
   "execution_count": 148,
   "metadata": {},
   "outputs": [],
   "source": [
    "def create_inverse_index_sums_tensorized(n, d, QTT_d):\n",
    "    nats = tt.vector.to_list(tt.xfun(n, QTT_d))\n",
    "    base = tt.vector.to_list(tt.ones(n, QTT_d * d))\n",
    "    X = []\n",
    "    for i in range(d):\n",
    "        tmp = base.copy()\n",
    "        for j in range(QTT_d):\n",
    "            tmp[i * QTT_d + j] = nats[j].copy()\n",
    "        X.append(tt.vector.from_list(tmp))\n",
    "    c = tt.multifuncrs2(X, lambda x: 1 / (1 + np.sum(x, axis = 1)), eps=1E-6, verb=0)\n",
    "    return c"
   ]
  },
  {
   "cell_type": "code",
   "execution_count": null,
   "metadata": {},
   "outputs": [],
   "source": [
    "from bilinear_package.src.hadamard_product import approximateHadamardProduct\n",
    "\n",
    "def experiment():\n",
    "    c = create_inverse_index_sums_tensorized(2, 3, 15)\n",
    "    X = c * c\n",
    "    norm = tt.vector.norm(X)\n",
    "    for rank in range(20, 61, 5):\n",
    "        ranks = [rank for _ in range(len(tt.vector.to_list(c)) - 1)]\n",
    "        answer = approximateHadamardProduct(tt.vector.to_list(c), tt.vector.to_list(c), desired_ranks = ranks, seed=81 + rank)\n",
    "        answer = tt.vector.from_list(answer)\n",
    "        print(f\"rank = {rank}, norm = {tt.vector.norm(X - answer) / tt.vector.norm(X)}\")"
   ]
  },
  {
   "cell_type": "code",
   "execution_count": 152,
   "metadata": {},
   "outputs": [
    {
     "name": "stdout",
     "output_type": "stream",
     "text": [
      "rank = 20, norm = 2.05909045458839e-06\n"
     ]
    },
    {
     "ename": "KeyboardInterrupt",
     "evalue": "",
     "output_type": "error",
     "traceback": [
      "\u001b[0;31m---------------------------------------------------------------------------\u001b[0m",
      "\u001b[0;31mKeyboardInterrupt\u001b[0m                         Traceback (most recent call last)",
      "\u001b[1;32m/home/divanik/Desktop/CourseWork/Randomized_tensor_bilinear_operations/experiment9.ipynb Cell 4\u001b[0m in \u001b[0;36m<cell line: 1>\u001b[0;34m()\u001b[0m\n\u001b[0;32m----> <a href='vscode-notebook-cell:/home/divanik/Desktop/CourseWork/Randomized_tensor_bilinear_operations/experiment9.ipynb#X32sZmlsZQ%3D%3D?line=0'>1</a>\u001b[0m experiment()\n",
      "\u001b[1;32m/home/divanik/Desktop/CourseWork/Randomized_tensor_bilinear_operations/experiment9.ipynb Cell 4\u001b[0m in \u001b[0;36mexperiment\u001b[0;34m()\u001b[0m\n\u001b[1;32m      <a href='vscode-notebook-cell:/home/divanik/Desktop/CourseWork/Randomized_tensor_bilinear_operations/experiment9.ipynb#X32sZmlsZQ%3D%3D?line=8'>9</a>\u001b[0m answer \u001b[39m=\u001b[39m approximateHadamardProduct(tt\u001b[39m.\u001b[39mvector\u001b[39m.\u001b[39mto_list(c), tt\u001b[39m.\u001b[39mvector\u001b[39m.\u001b[39mto_list(c), desired_ranks \u001b[39m=\u001b[39m ranks, seed\u001b[39m=\u001b[39m\u001b[39m81\u001b[39m \u001b[39m+\u001b[39m rank)\n\u001b[1;32m     <a href='vscode-notebook-cell:/home/divanik/Desktop/CourseWork/Randomized_tensor_bilinear_operations/experiment9.ipynb#X32sZmlsZQ%3D%3D?line=9'>10</a>\u001b[0m answer \u001b[39m=\u001b[39m tt\u001b[39m.\u001b[39mvector\u001b[39m.\u001b[39mfrom_list(answer)\n\u001b[0;32m---> <a href='vscode-notebook-cell:/home/divanik/Desktop/CourseWork/Randomized_tensor_bilinear_operations/experiment9.ipynb#X32sZmlsZQ%3D%3D?line=10'>11</a>\u001b[0m \u001b[39mprint\u001b[39m(\u001b[39mf\u001b[39m\u001b[39m\"\u001b[39m\u001b[39mrank = \u001b[39m\u001b[39m{\u001b[39;00mrank\u001b[39m}\u001b[39;00m\u001b[39m, norm = \u001b[39m\u001b[39m{\u001b[39;00mtt\u001b[39m.\u001b[39mvector\u001b[39m.\u001b[39mnorm(X \u001b[39m-\u001b[39m answer) \u001b[39m/\u001b[39m tt\u001b[39m.\u001b[39mvector\u001b[39m.\u001b[39mnorm(X)\u001b[39m}\u001b[39;00m\u001b[39m\"\u001b[39m)\n",
      "File \u001b[0;32m~/.local/lib/python3.8/site-packages/tt/core/vector.py:421\u001b[0m, in \u001b[0;36mvector.norm\u001b[0;34m(self)\u001b[0m\n\u001b[1;32m    419\u001b[0m     nrm \u001b[39m=\u001b[39m _tt_f90\u001b[39m.\u001b[39mtt_f90\u001b[39m.\u001b[39mztt_nrm(\u001b[39mself\u001b[39m\u001b[39m.\u001b[39mn, \u001b[39mself\u001b[39m\u001b[39m.\u001b[39mr, \u001b[39mself\u001b[39m\u001b[39m.\u001b[39mps, \u001b[39mself\u001b[39m\u001b[39m.\u001b[39mcore)\n\u001b[1;32m    420\u001b[0m \u001b[39melse\u001b[39;00m:\n\u001b[0;32m--> 421\u001b[0m     nrm \u001b[39m=\u001b[39m _tt_f90\u001b[39m.\u001b[39;49mtt_f90\u001b[39m.\u001b[39;49mdtt_nrm(\n\u001b[1;32m    422\u001b[0m         \u001b[39mself\u001b[39;49m\u001b[39m.\u001b[39;49mn, \u001b[39mself\u001b[39;49m\u001b[39m.\u001b[39;49mr, \u001b[39mself\u001b[39;49m\u001b[39m.\u001b[39;49mps, _np\u001b[39m.\u001b[39;49mreal(\u001b[39mself\u001b[39;49m\u001b[39m.\u001b[39;49mcore))\n\u001b[1;32m    423\u001b[0m \u001b[39mreturn\u001b[39;00m nrm\n",
      "\u001b[0;31mKeyboardInterrupt\u001b[0m: "
     ]
    }
   ],
   "source": [
    "experiment()"
   ]
  }
 ],
 "metadata": {
  "kernelspec": {
   "display_name": "Python 3.8.10 64-bit",
   "language": "python",
   "name": "python3"
  },
  "language_info": {
   "codemirror_mode": {
    "name": "ipython",
    "version": 3
   },
   "file_extension": ".py",
   "mimetype": "text/x-python",
   "name": "python",
   "nbconvert_exporter": "python",
   "pygments_lexer": "ipython3",
   "version": "3.8.10"
  },
  "orig_nbformat": 4,
  "vscode": {
   "interpreter": {
    "hash": "916dbcbb3f70747c44a77c7bcd40155683ae19c65e1c03b4aa3499c5328201f1"
   }
  }
 },
 "nbformat": 4,
 "nbformat_minor": 2
}
