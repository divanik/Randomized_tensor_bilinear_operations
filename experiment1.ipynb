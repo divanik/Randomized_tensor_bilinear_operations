{
 "cells": [
  {
   "cell_type": "markdown",
   "metadata": {},
   "source": [
    "# Зависимость времени работы от параметров тензора"
   ]
  },
  {
   "cell_type": "code",
   "execution_count": 5,
   "metadata": {},
   "outputs": [
    {
     "name": "stdout",
     "output_type": "stream",
     "text": [
      "The autoreload extension is already loaded. To reload it, use:\n",
      "  %reload_ext autoreload\n"
     ]
    }
   ],
   "source": [
    "%load_ext autoreload\n"
   ]
  },
  {
   "cell_type": "code",
   "execution_count": 6,
   "metadata": {},
   "outputs": [],
   "source": [
    "\n",
    "%autoreload 2\n",
    "\n",
    "import time\n",
    "from collections import defaultdict\n",
    "import matplotlib.pyplot as plt\n",
    "import seaborn as sns\n",
    "import itertools\n",
    "import numpy as np\n",
    "import pandas as pd\n",
    "\n",
    "from bilinear_package.src import hadamard_product, random_tensor_generation, rounding, primitives\n",
    "\n",
    "from experiments_stuff import get_tensor_for_experiment, default_dict_to_df"
   ]
  },
  {
   "cell_type": "markdown",
   "metadata": {},
   "source": [
    "## Во всех экспеиментов параметры по умолчанию: число ядер - 6, размер моды - 10, размер изначального ранга - 10, ранг округления - 20"
   ]
  },
  {
   "cell_type": "code",
   "execution_count": 7,
   "metadata": {},
   "outputs": [],
   "source": [
    "kernels = 6\n",
    "modes = 10\n",
    "initial_rank = 10\n",
    "rounding_rank = 20"
   ]
  },
  {
   "cell_type": "code",
   "execution_count": null,
   "metadata": {},
   "outputs": [],
   "source": [
    "def count_hadamard_time(tt1, tt2, rt):\n",
    "    time1 = time.time()\n",
    "    hadamard_product.generalizedApproximateHadamardProduct(tt_tensors1=tt1, tt_tensors2=tt2, random_tensor=rt)\n",
    "    time2 = time.time()\n",
    "    precise_hadamard = hadamard_product.preciseHadamardProduct(tt_tensors1=tt1, tt_tensors2=tt2)\n",
    "    rounded_tensor = rounding.randomizeThenOrthogonalize(precise_hadamard, rt)\n",
    "    time3 = time.time()\n",
    "    return time1, time2, time3"
   ]
  },
  {
   "cell_type": "code",
   "execution_count": 9,
   "metadata": {},
   "outputs": [
    {
     "ename": "SyntaxError",
     "evalue": "invalid syntax (574284864.py, line 1)",
     "output_type": "error",
     "traceback": [
      "\u001b[0;36m  Input \u001b[0;32mIn [9]\u001b[0;36m\u001b[0m\n\u001b[0;31m    def measure_time(config seed, algo):\u001b[0m\n\u001b[0m                            ^\u001b[0m\n\u001b[0;31mSyntaxError\u001b[0m\u001b[0;31m:\u001b[0m invalid syntax\n"
     ]
    }
   ],
   "source": [
    "def measure_time(config seed, algo):\n",
    "    tt_1 = get_tensor_for_experiment(config[\"kernels\"], config[\"modes\"], config[\"initial_rank\"], 1, 3 * seed)\n",
    "    tt_2 = get_tensor_for_experiment(kernels, mode, initial_rank, 1, 3 * seed + 1)\n",
    "    random_tensor = get_tensor_for_experiment(kernels, mode, initial_rank, 1, 3 * seed + 2)\n",
    "    time1 = time.time()\n",
    "    algo(tt_1, tt_2, random_tensor)\n",
    "    return time.time()"
   ]
  },
  {
   "cell_type": "code",
   "execution_count": 8,
   "metadata": {},
   "outputs": [],
   "source": [
    "def time_answers(property : str, func_name, grid, tt_tensors1, tt_tensors2, tt_tensors_random, func = count_hadamard_time):\n",
    "    tt_tensors1.append(get_tensor_for_experiment(kernels, mode, initial_rank, 1, 3 * j + 1))\n",
    "    tt_tensors2.append(get_tensor_for_experiment(kernels, mode, initial_rank, 1, 3 * j + 2))\n",
    "    tt_tensors_random.append(get_random_tensor_for_experiment(kernels, mode, rounding_rank_, 3 * j + 3))\n",
    "    for i in grid:\n",
    "        for j in range(tries):\n",
    "            time1 = time.time()\n",
    "            hadamard_product.generalizedApproximateHadamardProduct(tt_tensors1=tt_tensors1[j], tt_tensors2=tt_tensors2[j], random_tensor=tt_tensors_random[j])\n",
    "            time2 = time.time()\n",
    "            precise_hadamard = hadamard_product.preciseHadamardProduct(tt_tensors1=tt_tensors1[j], tt_tensors2=tt_tensors2[j])\n",
    "            rounded_tensor = rounding.randomizeThenOrthogonalize(precise_hadamard, tt_tensors_random[j])\n",
    "            time3 = time.time()\n",
    "            time1, time2, time3 = func(tt_tensors1[j], tt_tensors2[j], tt_tensors_random[j])\n",
    "            answer[i].append(time2 - time1)\n",
    "            answer2[i].append(time3 - time2)\n",
    "    default_dict_to_df(answer, f\"exp1/{property}_{func_name}_approx\")\n",
    "    default_dict_to_df(answer2, f\"exp1/{property}_{func_name}_precise_and_round\")\n"
   ]
  },
  {
   "cell_type": "code",
   "execution_count": 40,
   "metadata": {},
   "outputs": [],
   "source": [
    "from experiments_stuff import get_random_tensor_for_experiment\n",
    "\n",
    "grid_modes = np.arange(5, 101, 5)\n",
    "tries = 3\n",
    "for rounding_rank_ in grid_modes:\n",
    "    tt_tensors1 = []\n",
    "    tt_tensors2 = []\n",
    "    tt_tensors_random = []\n",
    "    for j in range(tries):\n",
    "        tt_tensors1.append(get_tensor_for_experiment(kernels, mode, initial_rank, 1, 3 * j + 1))\n",
    "        tt_tensors2.append(get_tensor_for_experiment(kernels, mode, initial_rank, 1, 3 * j + 2))\n",
    "        tt_tensors_random.append(get_random_tensor_for_experiment(kernels, mode, rounding_rank_, 3 * j + 3))\n",
    "    time_answers()"
   ]
  }
 ],
 "metadata": {
  "kernelspec": {
   "display_name": "Python 3.8.10 64-bit",
   "language": "python",
   "name": "python3"
  },
  "language_info": {
   "codemirror_mode": {
    "name": "ipython",
    "version": 3
   },
   "file_extension": ".py",
   "mimetype": "text/x-python",
   "name": "python",
   "nbconvert_exporter": "python",
   "pygments_lexer": "ipython3",
   "version": "3.8.10"
  },
  "orig_nbformat": 4,
  "vscode": {
   "interpreter": {
    "hash": "31f2aee4e71d21fbe5cf8b01ff0e069b9275f58929596ceb00d14d90e3e16cd6"
   }
  }
 },
 "nbformat": 4,
 "nbformat_minor": 2
}
