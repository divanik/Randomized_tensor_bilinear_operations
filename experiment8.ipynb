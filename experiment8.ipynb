{
 "cells": [
  {
   "cell_type": "code",
   "execution_count": 235,
   "metadata": {},
   "outputs": [
    {
     "name": "stdout",
     "output_type": "stream",
     "text": [
      "The autoreload extension is already loaded. To reload it, use:\n",
      "  %reload_ext autoreload\n"
     ]
    }
   ],
   "source": [
    "%load_ext autoreload\n",
    "%autoreload 2\n",
    "\n",
    "import numpy as np\n",
    "import tt\n",
    "import experiments_stuff\n",
    "from bilinear_package.src import primitives\n",
    "from bilinear_package.src.hadamard_product import generalizedApproximateHadamardProduct\n",
    "from bilinear_package.src.convolution import approximateConvolution, preciseConvolution\n",
    "import time"
   ]
  },
  {
   "cell_type": "code",
   "execution_count": 187,
   "metadata": {},
   "outputs": [],
   "source": [
    "def create_exponential_grid(n, d, A, alpha=1):\n",
    "    x = np.reshape(np.linspace(-A, A, d, endpoint=True), (1, d, 1))\n",
    "    ones =  np.reshape(np.ones(d), (1, d, 1))\n",
    "    base = [ones for _ in range(n)]\n",
    "    X = []\n",
    "    for i in range(n):\n",
    "        kek = base.copy()\n",
    "        kek[i] = x.copy()\n",
    "        X.append(tt.vector.from_list(kek))\n",
    "    c = tt.multifuncrs2(X, lambda x: np.exp(-alpha * np.sqrt(np.sum(x * x, axis = 1))), eps=1E-6, verb=0)\n",
    "    return tt.vector.to_list(c)"
   ]
  },
  {
   "cell_type": "code",
   "execution_count": 188,
   "metadata": {},
   "outputs": [],
   "source": [
    "def create_invertable_grid(n, d, A, alpha=1):\n",
    "    x = np.reshape(np.linspace(-A, A, d, endpoint=True), (1, d, 1))\n",
    "    ones =  np.reshape(np.ones(d), (1, d, 1))\n",
    "    base = [ones for _ in range(n)]\n",
    "    X = []\n",
    "    for i in range(n):\n",
    "        kek = base.copy()\n",
    "        kek[i] = x.copy()\n",
    "        X.append(tt.vector.from_list(kek))\n",
    "    c = tt.multifuncrs2(X, lambda x: 1 / np.sqrt(np.sum(x * x, axis = 1)), eps=1E-6, verb=0)\n",
    "    return tt.vector.to_list(c)"
   ]
  },
  {
   "cell_type": "code",
   "execution_count": 189,
   "metadata": {},
   "outputs": [],
   "source": [
    "tensor = create_exponential_grid(2, 6, 1)"
   ]
  },
  {
   "cell_type": "code",
   "execution_count": 190,
   "metadata": {},
   "outputs": [
    {
     "data": {
      "text/plain": [
       "This is a 2-dimensional tensor \n",
       "r(0)=1, n(0)=6 \n",
       "r(1)=6, n(1)=6 \n",
       "r(2)=1 "
      ]
     },
     "execution_count": 190,
     "metadata": {},
     "output_type": "execute_result"
    }
   ],
   "source": [
    "tt.vector.from_list(tensor)"
   ]
  },
  {
   "cell_type": "code",
   "execution_count": 191,
   "metadata": {},
   "outputs": [],
   "source": [
    "def create_2d_exponential_grid(d, A, alpha=1):\n",
    "    x = np.linspace(-A, A, d, endpoint=True)\n",
    "    kek = x[:, None] * x[:, None] + x[None, :] * x[None, :] \n",
    "    return np.exp(-alpha * np.sqrt(kek))"
   ]
  },
  {
   "cell_type": "code",
   "execution_count": 192,
   "metadata": {},
   "outputs": [],
   "source": [
    "def create_2d_invertable_grid(d, A, alpha=1):\n",
    "    x = np.linspace(-A, A, d, endpoint=True)\n",
    "    kek = x[:, None] * x[:, None] + x[None, :] * x[None, :] \n",
    "    return 1 / np.sqrt(kek)"
   ]
  },
  {
   "cell_type": "code",
   "execution_count": 239,
   "metadata": {},
   "outputs": [
    {
     "data": {
      "text/plain": [
       "This is a 6-dimensional tensor \n",
       "r(0)=1, n(0)=30 \n",
       "r(1)=14, n(1)=30 \n",
       "r(2)=14, n(2)=30 \n",
       "r(3)=14, n(3)=30 \n",
       "r(4)=14, n(4)=30 \n",
       "r(5)=14, n(5)=30 \n",
       "r(6)=1 "
      ]
     },
     "execution_count": 239,
     "metadata": {},
     "output_type": "execute_result"
    }
   ],
   "source": [
    "a = create_exponential_grid(6, 30, 116, alpha=0.1)\n",
    "tt.vector.from_list(a)"
   ]
  },
  {
   "cell_type": "code",
   "execution_count": 242,
   "metadata": {},
   "outputs": [
    {
     "data": {
      "text/plain": [
       "This is a 6-dimensional tensor \n",
       "r(0)=1, n(0)=30 \n",
       "r(1)=14, n(1)=30 \n",
       "r(2)=15, n(2)=30 \n",
       "r(3)=15, n(3)=30 \n",
       "r(4)=15, n(4)=30 \n",
       "r(5)=14, n(5)=30 \n",
       "r(6)=1 "
      ]
     },
     "execution_count": 242,
     "metadata": {},
     "output_type": "execute_result"
    }
   ],
   "source": [
    "b = create_invertable_grid(6, 30, 116)\n",
    "tt.vector.from_list(b)"
   ]
  },
  {
   "cell_type": "code",
   "execution_count": 244,
   "metadata": {},
   "outputs": [
    {
     "name": "stdout",
     "output_type": "stream",
     "text": [
      "3.0013227462768555\n"
     ]
    }
   ],
   "source": [
    "bench = time.time()\n",
    "for i in range(20):\n",
    "    approx = approximateConvolution(a, b, desired_ranks=np.ones(5, dtype=int) * 6, seed=255)\n",
    "print(time.time() - bench)"
   ]
  },
  {
   "cell_type": "code",
   "execution_count": 245,
   "metadata": {},
   "outputs": [],
   "source": [
    "precise = preciseConvolution(a, b)"
   ]
  },
  {
   "cell_type": "code",
   "execution_count": 246,
   "metadata": {},
   "outputs": [
    {
     "name": "stderr",
     "output_type": "stream",
     "text": [
      "/home/divanik/.local/lib/python3.8/site-packages/tt/core/vector.py:412: ComplexWarning: Casting complex values to real discards the imaginary part\n",
      "  _tt_f90.tt_f90.dtt_compr2(c.n, c.r, c.ps, self.core, eps, rmax)\n"
     ]
    },
    {
     "name": "stdout",
     "output_type": "stream",
     "text": [
      "17.25714111328125\n"
     ]
    }
   ],
   "source": [
    "bench = time.time()\n",
    "for i in range(20):\n",
    "    tt.vector.from_list(precise).round(0, 6)\n",
    "print(time.time() - bench)"
   ]
  },
  {
   "cell_type": "code",
   "execution_count": 247,
   "metadata": {},
   "outputs": [
    {
     "data": {
      "text/plain": [
       "(0.00033241089159884775+0j)"
      ]
     },
     "execution_count": 247,
     "metadata": {},
     "output_type": "execute_result"
    }
   ],
   "source": [
    "primitives.ttTensorsUnsymmetricalRelativeComparance(approx, precise)"
   ]
  }
 ],
 "metadata": {
  "kernelspec": {
   "display_name": "Python 3.8.10 64-bit",
   "language": "python",
   "name": "python3"
  },
  "language_info": {
   "codemirror_mode": {
    "name": "ipython",
    "version": 3
   },
   "file_extension": ".py",
   "mimetype": "text/x-python",
   "name": "python",
   "nbconvert_exporter": "python",
   "pygments_lexer": "ipython3",
   "version": "3.8.10"
  },
  "orig_nbformat": 4,
  "vscode": {
   "interpreter": {
    "hash": "916dbcbb3f70747c44a77c7bcd40155683ae19c65e1c03b4aa3499c5328201f1"
   }
  }
 },
 "nbformat": 4,
 "nbformat_minor": 2
}
