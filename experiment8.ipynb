{
 "cells": [
  {
   "cell_type": "code",
   "execution_count": 235,
   "metadata": {},
   "outputs": [
    {
     "name": "stdout",
     "output_type": "stream",
     "text": [
      "The autoreload extension is already loaded. To reload it, use:\n",
      "  %reload_ext autoreload\n"
     ]
    }
   ],
   "source": [
    "%load_ext autoreload\n",
    "%autoreload 2\n",
    "\n",
    "import numpy as np\n",
    "import tt\n",
    "import experiments_stuff\n",
    "from bilinear_package.src import primitives\n",
    "from bilinear_package.src.hadamard_product import generalizedApproximateHadamardProduct\n",
    "from bilinear_package.src.convolution import approximateConvolution, preciseConvolution\n",
    "import time"
   ]
  },
  {
   "cell_type": "code",
   "execution_count": 249,
   "metadata": {},
   "outputs": [],
   "source": [
    "from newton_experiment_primitives import create_exponential_grid, create_netonial_potential_grid"
   ]
  },
  {
   "cell_type": "code",
   "execution_count": 256,
   "metadata": {},
   "outputs": [
    {
     "data": {
      "text/plain": [
       "array([ 4,  8, 16, 32, 64])"
      ]
     },
     "execution_count": 256,
     "metadata": {},
     "output_type": "execute_result"
    }
   ],
   "source": [
    "np.logspace(2, 6, 5, base = 2, dtype = int)"
   ]
  },
  {
   "cell_type": "code",
   "execution_count": 281,
   "metadata": {},
   "outputs": [
    {
     "ename": "LinAlgError",
     "evalue": "Singular matrix",
     "output_type": "error",
     "traceback": [
      "\u001b[0;31m---------------------------------------------------------------------------\u001b[0m",
      "\u001b[0;31mLinAlgError\u001b[0m                               Traceback (most recent call last)",
      "\u001b[1;32m/home/divanik/Desktop/CourseWork/Randomized_tensor_bilinear_operations/experiment8.ipynb Cell 4\u001b[0m in \u001b[0;36m<cell line: 1>\u001b[0;34m()\u001b[0m\n\u001b[0;32m----> <a href='vscode-notebook-cell:/home/divanik/Desktop/CourseWork/Randomized_tensor_bilinear_operations/experiment8.ipynb#X45sZmlsZQ%3D%3D?line=0'>1</a>\u001b[0m create_exponential_grid(\u001b[39m3\u001b[39;49m, \u001b[39m256\u001b[39;49m, \u001b[39m40\u001b[39;49m)\n",
      "File \u001b[0;32m~/Desktop/CourseWork/Randomized_tensor_bilinear_operations/newton_experiment_primitives.py:14\u001b[0m, in \u001b[0;36mcreate_exponential_grid\u001b[0;34m(d, n, A, alpha)\u001b[0m\n\u001b[1;32m     12\u001b[0m     current[i] \u001b[39m=\u001b[39m x\u001b[39m.\u001b[39mcopy()\n\u001b[1;32m     13\u001b[0m     X\u001b[39m.\u001b[39mappend(tt\u001b[39m.\u001b[39mvector\u001b[39m.\u001b[39mfrom_list(current))\n\u001b[0;32m---> 14\u001b[0m c \u001b[39m=\u001b[39m tt\u001b[39m.\u001b[39;49mmultifuncrs2(X, \u001b[39mlambda\u001b[39;49;00m x: np\u001b[39m.\u001b[39;49mexp(\u001b[39m-\u001b[39;49malpha \u001b[39m*\u001b[39;49m\n\u001b[1;32m     15\u001b[0m                     np\u001b[39m.\u001b[39;49msqrt(np\u001b[39m.\u001b[39;49msum(x \u001b[39m*\u001b[39;49m x, axis\u001b[39m=\u001b[39;49m\u001b[39m1\u001b[39;49m))), eps\u001b[39m=\u001b[39;49m\u001b[39m1E-6\u001b[39;49m, verb\u001b[39m=\u001b[39;49m\u001b[39m0\u001b[39;49m)\n\u001b[1;32m     16\u001b[0m \u001b[39mreturn\u001b[39;00m tt\u001b[39m.\u001b[39mvector\u001b[39m.\u001b[39mto_list(c)\n",
      "File \u001b[0;32m~/.local/lib/python3.8/site-packages/tt/multifuncrs2.py:172\u001b[0m, in \u001b[0;36mmultifuncrs2\u001b[0;34m(X, funs, eps, nswp, rmax, verb, kickrank, kickrank2, d2, eps_exit, y0, do_qr, restart_it)\u001b[0m\n\u001b[1;32m    170\u001b[0m \u001b[39m# multiply with inverted Ry\u001b[39;00m\n\u001b[1;32m    171\u001b[0m newy \u001b[39m=\u001b[39m reshape(newy, (ry[i], n[i] \u001b[39m*\u001b[39m ry[i \u001b[39m+\u001b[39m \u001b[39m1\u001b[39m] \u001b[39m*\u001b[39m d2))\n\u001b[0;32m--> 172\u001b[0m newy \u001b[39m=\u001b[39m np\u001b[39m.\u001b[39;49mlinalg\u001b[39m.\u001b[39;49msolve(Ry[i], newy)  \u001b[39m# y = R \\ y\u001b[39;00m\n\u001b[1;32m    173\u001b[0m newy \u001b[39m=\u001b[39m reshape(newy, (ry[i] \u001b[39m*\u001b[39m n[i] \u001b[39m*\u001b[39m ry[i \u001b[39m+\u001b[39m \u001b[39m1\u001b[39m], d2))\n\u001b[1;32m    174\u001b[0m newy \u001b[39m=\u001b[39m reshape(np\u001b[39m.\u001b[39mtranspose(newy), (d2 \u001b[39m*\u001b[39m ry[i] \u001b[39m*\u001b[39m n[i], ry[i \u001b[39m+\u001b[39m \u001b[39m1\u001b[39m]))\n",
      "File \u001b[0;32m<__array_function__ internals>:180\u001b[0m, in \u001b[0;36msolve\u001b[0;34m(*args, **kwargs)\u001b[0m\n",
      "File \u001b[0;32m~/.local/lib/python3.8/site-packages/numpy/linalg/linalg.py:393\u001b[0m, in \u001b[0;36msolve\u001b[0;34m(a, b)\u001b[0m\n\u001b[1;32m    391\u001b[0m signature \u001b[39m=\u001b[39m \u001b[39m'\u001b[39m\u001b[39mDD->D\u001b[39m\u001b[39m'\u001b[39m \u001b[39mif\u001b[39;00m isComplexType(t) \u001b[39melse\u001b[39;00m \u001b[39m'\u001b[39m\u001b[39mdd->d\u001b[39m\u001b[39m'\u001b[39m\n\u001b[1;32m    392\u001b[0m extobj \u001b[39m=\u001b[39m get_linalg_error_extobj(_raise_linalgerror_singular)\n\u001b[0;32m--> 393\u001b[0m r \u001b[39m=\u001b[39m gufunc(a, b, signature\u001b[39m=\u001b[39;49msignature, extobj\u001b[39m=\u001b[39;49mextobj)\n\u001b[1;32m    395\u001b[0m \u001b[39mreturn\u001b[39;00m wrap(r\u001b[39m.\u001b[39mastype(result_t, copy\u001b[39m=\u001b[39m\u001b[39mFalse\u001b[39;00m))\n",
      "File \u001b[0;32m~/.local/lib/python3.8/site-packages/numpy/linalg/linalg.py:88\u001b[0m, in \u001b[0;36m_raise_linalgerror_singular\u001b[0;34m(err, flag)\u001b[0m\n\u001b[1;32m     87\u001b[0m \u001b[39mdef\u001b[39;00m \u001b[39m_raise_linalgerror_singular\u001b[39m(err, flag):\n\u001b[0;32m---> 88\u001b[0m     \u001b[39mraise\u001b[39;00m LinAlgError(\u001b[39m\"\u001b[39m\u001b[39mSingular matrix\u001b[39m\u001b[39m\"\u001b[39m)\n",
      "\u001b[0;31mLinAlgError\u001b[0m: Singular matrix"
     ]
    }
   ],
   "source": [
    "create_exponential_grid(3, 256, 40)"
   ]
  },
  {
   "cell_type": "code",
   "execution_count": 264,
   "metadata": {},
   "outputs": [
    {
     "ename": "LinAlgError",
     "evalue": "Singular matrix",
     "output_type": "error",
     "traceback": [
      "\u001b[0;31m---------------------------------------------------------------------------\u001b[0m",
      "\u001b[0;31mLinAlgError\u001b[0m                               Traceback (most recent call last)",
      "\u001b[1;32m/home/divanik/Desktop/CourseWork/Randomized_tensor_bilinear_operations/experiment8.ipynb Cell 4\u001b[0m in \u001b[0;36m<cell line: 3>\u001b[0;34m()\u001b[0m\n\u001b[1;32m      <a href='vscode-notebook-cell:/home/divanik/Desktop/CourseWork/Randomized_tensor_bilinear_operations/experiment8.ipynb#W2sZmlsZQ%3D%3D?line=0'>1</a>\u001b[0m A \u001b[39m=\u001b[39m \u001b[39m2000\u001b[39m\n\u001b[1;32m      <a href='vscode-notebook-cell:/home/divanik/Desktop/CourseWork/Randomized_tensor_bilinear_operations/experiment8.ipynb#W2sZmlsZQ%3D%3D?line=2'>3</a>\u001b[0m \u001b[39mfor\u001b[39;00m number \u001b[39min\u001b[39;00m np\u001b[39m.\u001b[39mlogspace(\u001b[39m8\u001b[39m, \u001b[39m9\u001b[39m, \u001b[39m2\u001b[39m, base \u001b[39m=\u001b[39m \u001b[39m2\u001b[39m, dtype \u001b[39m=\u001b[39m \u001b[39mint\u001b[39m):\n\u001b[0;32m----> <a href='vscode-notebook-cell:/home/divanik/Desktop/CourseWork/Randomized_tensor_bilinear_operations/experiment8.ipynb#W2sZmlsZQ%3D%3D?line=3'>4</a>\u001b[0m     tensor1 \u001b[39m=\u001b[39m create_exponential_grid(\u001b[39m3\u001b[39;49m, number, A)\n\u001b[1;32m      <a href='vscode-notebook-cell:/home/divanik/Desktop/CourseWork/Randomized_tensor_bilinear_operations/experiment8.ipynb#W2sZmlsZQ%3D%3D?line=4'>5</a>\u001b[0m     tensor2 \u001b[39m=\u001b[39m create_netonial_potential_grid(\u001b[39m3\u001b[39m, number, A)\n\u001b[1;32m      <a href='vscode-notebook-cell:/home/divanik/Desktop/CourseWork/Randomized_tensor_bilinear_operations/experiment8.ipynb#W2sZmlsZQ%3D%3D?line=5'>6</a>\u001b[0m     \u001b[39mprint\u001b[39m(number)\n",
      "File \u001b[0;32m~/Desktop/CourseWork/Randomized_tensor_bilinear_operations/newton_experiment_primitives.py:14\u001b[0m, in \u001b[0;36mcreate_exponential_grid\u001b[0;34m(d, n, A, alpha)\u001b[0m\n\u001b[1;32m     12\u001b[0m     current[i] \u001b[39m=\u001b[39m x\u001b[39m.\u001b[39mcopy()\n\u001b[1;32m     13\u001b[0m     X\u001b[39m.\u001b[39mappend(tt\u001b[39m.\u001b[39mvector\u001b[39m.\u001b[39mfrom_list(current))\n\u001b[0;32m---> 14\u001b[0m c \u001b[39m=\u001b[39m tt\u001b[39m.\u001b[39;49mmultifuncrs2(X, \u001b[39mlambda\u001b[39;49;00m x: np\u001b[39m.\u001b[39;49mexp(\u001b[39m-\u001b[39;49malpha \u001b[39m*\u001b[39;49m\n\u001b[1;32m     15\u001b[0m                     np\u001b[39m.\u001b[39;49msqrt(np\u001b[39m.\u001b[39;49msum(x \u001b[39m*\u001b[39;49m x, axis\u001b[39m=\u001b[39;49m\u001b[39m1\u001b[39;49m))), eps\u001b[39m=\u001b[39;49m\u001b[39m1E-6\u001b[39;49m, verb\u001b[39m=\u001b[39;49m\u001b[39m0\u001b[39;49m)\n\u001b[1;32m     16\u001b[0m \u001b[39mreturn\u001b[39;00m tt\u001b[39m.\u001b[39mvector\u001b[39m.\u001b[39mto_list(c)\n",
      "File \u001b[0;32m~/.local/lib/python3.8/site-packages/tt/multifuncrs2.py:172\u001b[0m, in \u001b[0;36mmultifuncrs2\u001b[0;34m(X, funs, eps, nswp, rmax, verb, kickrank, kickrank2, d2, eps_exit, y0, do_qr, restart_it)\u001b[0m\n\u001b[1;32m    170\u001b[0m \u001b[39m# multiply with inverted Ry\u001b[39;00m\n\u001b[1;32m    171\u001b[0m newy \u001b[39m=\u001b[39m reshape(newy, (ry[i], n[i] \u001b[39m*\u001b[39m ry[i \u001b[39m+\u001b[39m \u001b[39m1\u001b[39m] \u001b[39m*\u001b[39m d2))\n\u001b[0;32m--> 172\u001b[0m newy \u001b[39m=\u001b[39m np\u001b[39m.\u001b[39;49mlinalg\u001b[39m.\u001b[39;49msolve(Ry[i], newy)  \u001b[39m# y = R \\ y\u001b[39;00m\n\u001b[1;32m    173\u001b[0m newy \u001b[39m=\u001b[39m reshape(newy, (ry[i] \u001b[39m*\u001b[39m n[i] \u001b[39m*\u001b[39m ry[i \u001b[39m+\u001b[39m \u001b[39m1\u001b[39m], d2))\n\u001b[1;32m    174\u001b[0m newy \u001b[39m=\u001b[39m reshape(np\u001b[39m.\u001b[39mtranspose(newy), (d2 \u001b[39m*\u001b[39m ry[i] \u001b[39m*\u001b[39m n[i], ry[i \u001b[39m+\u001b[39m \u001b[39m1\u001b[39m]))\n",
      "File \u001b[0;32m<__array_function__ internals>:180\u001b[0m, in \u001b[0;36msolve\u001b[0;34m(*args, **kwargs)\u001b[0m\n",
      "File \u001b[0;32m~/.local/lib/python3.8/site-packages/numpy/linalg/linalg.py:393\u001b[0m, in \u001b[0;36msolve\u001b[0;34m(a, b)\u001b[0m\n\u001b[1;32m    391\u001b[0m signature \u001b[39m=\u001b[39m \u001b[39m'\u001b[39m\u001b[39mDD->D\u001b[39m\u001b[39m'\u001b[39m \u001b[39mif\u001b[39;00m isComplexType(t) \u001b[39melse\u001b[39;00m \u001b[39m'\u001b[39m\u001b[39mdd->d\u001b[39m\u001b[39m'\u001b[39m\n\u001b[1;32m    392\u001b[0m extobj \u001b[39m=\u001b[39m get_linalg_error_extobj(_raise_linalgerror_singular)\n\u001b[0;32m--> 393\u001b[0m r \u001b[39m=\u001b[39m gufunc(a, b, signature\u001b[39m=\u001b[39;49msignature, extobj\u001b[39m=\u001b[39;49mextobj)\n\u001b[1;32m    395\u001b[0m \u001b[39mreturn\u001b[39;00m wrap(r\u001b[39m.\u001b[39mastype(result_t, copy\u001b[39m=\u001b[39m\u001b[39mFalse\u001b[39;00m))\n",
      "File \u001b[0;32m~/.local/lib/python3.8/site-packages/numpy/linalg/linalg.py:88\u001b[0m, in \u001b[0;36m_raise_linalgerror_singular\u001b[0;34m(err, flag)\u001b[0m\n\u001b[1;32m     87\u001b[0m \u001b[39mdef\u001b[39;00m \u001b[39m_raise_linalgerror_singular\u001b[39m(err, flag):\n\u001b[0;32m---> 88\u001b[0m     \u001b[39mraise\u001b[39;00m LinAlgError(\u001b[39m\"\u001b[39m\u001b[39mSingular matrix\u001b[39m\u001b[39m\"\u001b[39m)\n",
      "\u001b[0;31mLinAlgError\u001b[0m: Singular matrix"
     ]
    }
   ],
   "source": [
    "A = 2000\n",
    "\n",
    "for number in np.logspace(8, 9, 2, base = 2, dtype = int):\n",
    "    tensor1 = create_exponential_grid(3, number, A)\n",
    "    tensor2 = create_netonial_potential_grid(3, number, A)\n",
    "    print(number)"
   ]
  },
  {
   "cell_type": "code",
   "execution_count": 248,
   "metadata": {},
   "outputs": [
    {
     "name": "stdout",
     "output_type": "stream",
     "text": [
      "This is a 2-dimensional tensor \n",
      "r(0)=1, n(0)=6 \n",
      "r(1)=6, n(1)=6 \n",
      "r(2)=1 \n",
      "\n"
     ]
    }
   ],
   "source": [
    "print(tt.vector.from_list(tensor))"
   ]
  },
  {
   "cell_type": "code",
   "execution_count": 191,
   "metadata": {},
   "outputs": [],
   "source": [
    "def create_2d_exponential_grid(d, A, alpha=1):\n",
    "    x = np.linspace(-A, A, d, endpoint=True)\n",
    "    kek = x[:, None] * x[:, None] + x[None, :] * x[None, :] \n",
    "    return np.exp(-alpha * np.sqrt(kek))"
   ]
  },
  {
   "cell_type": "code",
   "execution_count": 192,
   "metadata": {},
   "outputs": [],
   "source": [
    "def create_2d_invertable_grid(d, A, alpha=1):\n",
    "    x = np.linspace(-A, A, d, endpoint=True)\n",
    "    kek = x[:, None] * x[:, None] + x[None, :] * x[None, :] \n",
    "    return 1 / np.sqrt(kek)"
   ]
  },
  {
   "cell_type": "code",
   "execution_count": 239,
   "metadata": {},
   "outputs": [
    {
     "data": {
      "text/plain": [
       "This is a 6-dimensional tensor \n",
       "r(0)=1, n(0)=30 \n",
       "r(1)=14, n(1)=30 \n",
       "r(2)=14, n(2)=30 \n",
       "r(3)=14, n(3)=30 \n",
       "r(4)=14, n(4)=30 \n",
       "r(5)=14, n(5)=30 \n",
       "r(6)=1 "
      ]
     },
     "execution_count": 239,
     "metadata": {},
     "output_type": "execute_result"
    }
   ],
   "source": [
    "a = create_exponential_grid(6, 30, 116, alpha=0.1)\n",
    "tt.vector.from_list(a)"
   ]
  },
  {
   "cell_type": "code",
   "execution_count": 242,
   "metadata": {},
   "outputs": [
    {
     "data": {
      "text/plain": [
       "This is a 6-dimensional tensor \n",
       "r(0)=1, n(0)=30 \n",
       "r(1)=14, n(1)=30 \n",
       "r(2)=15, n(2)=30 \n",
       "r(3)=15, n(3)=30 \n",
       "r(4)=15, n(4)=30 \n",
       "r(5)=14, n(5)=30 \n",
       "r(6)=1 "
      ]
     },
     "execution_count": 242,
     "metadata": {},
     "output_type": "execute_result"
    }
   ],
   "source": [
    "b = create_invertable_grid(6, 30, 116)\n",
    "tt.vector.from_list(b)"
   ]
  },
  {
   "cell_type": "code",
   "execution_count": 244,
   "metadata": {},
   "outputs": [
    {
     "name": "stdout",
     "output_type": "stream",
     "text": [
      "3.0013227462768555\n"
     ]
    }
   ],
   "source": [
    "bench = time.time()\n",
    "for i in range(20):\n",
    "    approx = approximateConvolution(a, b, desired_ranks=np.ones(5, dtype=int) * 6, seed=255)\n",
    "print(time.time() - bench)"
   ]
  },
  {
   "cell_type": "code",
   "execution_count": 245,
   "metadata": {},
   "outputs": [],
   "source": [
    "precise = preciseConvolution(a, b)"
   ]
  },
  {
   "cell_type": "code",
   "execution_count": 246,
   "metadata": {},
   "outputs": [
    {
     "name": "stderr",
     "output_type": "stream",
     "text": [
      "/home/divanik/.local/lib/python3.8/site-packages/tt/core/vector.py:412: ComplexWarning: Casting complex values to real discards the imaginary part\n",
      "  _tt_f90.tt_f90.dtt_compr2(c.n, c.r, c.ps, self.core, eps, rmax)\n"
     ]
    },
    {
     "name": "stdout",
     "output_type": "stream",
     "text": [
      "17.25714111328125\n"
     ]
    }
   ],
   "source": [
    "bench = time.time()\n",
    "for i in range(20):\n",
    "    tt.vector.from_list(precise).round(0, 6)\n",
    "print(time.time() - bench)"
   ]
  },
  {
   "cell_type": "code",
   "execution_count": 247,
   "metadata": {},
   "outputs": [
    {
     "data": {
      "text/plain": [
       "(0.00033241089159884775+0j)"
      ]
     },
     "execution_count": 247,
     "metadata": {},
     "output_type": "execute_result"
    }
   ],
   "source": [
    "primitives.ttTensorsUnsymmetricalRelativeComparance(approx, precise)"
   ]
  }
 ],
 "metadata": {
  "kernelspec": {
   "display_name": "Python 3.8.10 64-bit",
   "language": "python",
   "name": "python3"
  },
  "language_info": {
   "codemirror_mode": {
    "name": "ipython",
    "version": 3
   },
   "file_extension": ".py",
   "mimetype": "text/x-python",
   "name": "python",
   "nbconvert_exporter": "python",
   "pygments_lexer": "ipython3",
   "version": "3.8.10"
  },
  "orig_nbformat": 4,
  "vscode": {
   "interpreter": {
    "hash": "916dbcbb3f70747c44a77c7bcd40155683ae19c65e1c03b4aa3499c5328201f1"
   }
  }
 },
 "nbformat": 4,
 "nbformat_minor": 2
}
