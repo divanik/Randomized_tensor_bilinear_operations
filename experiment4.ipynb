{
 "cells": [
  {
   "cell_type": "code",
   "execution_count": 2,
   "metadata": {},
   "outputs": [],
   "source": [
    "%load_ext autoreload\n",
    "%autoreload 2\n",
    "\n",
    "import numpy as np\n",
    "import tt\n",
    "import experiments_stuff\n",
    "from bilinear_package.src import primitives\n",
    "from bilinear_package.src.hadamard_product import generalizedApproximateHadamardProduct\n",
    "from bilinear_package.src.convolution import approximateConvolution, preciseConvolution, countFourier, countInverseFourier, approximateCycleConvolution\n",
    "import time"
   ]
  },
  {
   "cell_type": "code",
   "execution_count": 3,
   "metadata": {},
   "outputs": [],
   "source": [
    "from newton_experiment_primitives import create_exponential_grid, create_newtonial_potential_grid"
   ]
  },
  {
   "cell_type": "code",
   "execution_count": 4,
   "metadata": {},
   "outputs": [
    {
     "name": "stdout",
     "output_type": "stream",
     "text": [
      "This is a 3-dimensional tensor \n",
      "r(0)=1, n(0)=514 \n",
      "r(1)=15, n(1)=514 \n",
      "r(2)=15, n(2)=514 \n",
      "r(3)=1 \n",
      "\n",
      "This is a 3-dimensional tensor \n",
      "r(0)=1, n(0)=514 \n",
      "r(1)=21, n(1)=514 \n",
      "r(2)=21, n(2)=514 \n",
      "r(3)=1 \n",
      "\n"
     ]
    },
    {
     "ename": "KeyboardInterrupt",
     "evalue": "",
     "output_type": "error",
     "traceback": [
      "\u001b[0;31m---------------------------------------------------------------------------\u001b[0m",
      "\u001b[0;31mKeyboardInterrupt\u001b[0m                         Traceback (most recent call last)",
      "\u001b[1;32m/home/divanik/Desktop/CourseWork/Randomized_tensor_bilinear_operations/experiment4.ipynb Cell 3\u001b[0m in \u001b[0;36m<cell line: 10>\u001b[0;34m()\u001b[0m\n\u001b[1;32m     <a href='vscode-notebook-cell:/home/divanik/Desktop/CourseWork/Randomized_tensor_bilinear_operations/experiment4.ipynb#W2sZmlsZQ%3D%3D?line=21'>22</a>\u001b[0m precise_norm \u001b[39m=\u001b[39m tt\u001b[39m.\u001b[39mvector\u001b[39m.\u001b[39mnorm(precise)\n\u001b[1;32m     <a href='vscode-notebook-cell:/home/divanik/Desktop/CourseWork/Randomized_tensor_bilinear_operations/experiment4.ipynb#W2sZmlsZQ%3D%3D?line=22'>23</a>\u001b[0m time1 \u001b[39m=\u001b[39m time\u001b[39m.\u001b[39mtime()\n\u001b[0;32m---> <a href='vscode-notebook-cell:/home/divanik/Desktop/CourseWork/Randomized_tensor_bilinear_operations/experiment4.ipynb#W2sZmlsZQ%3D%3D?line=23'>24</a>\u001b[0m answer1 \u001b[39m=\u001b[39m approximateCycleConvolution(tensor1, tensor2, desired_ranks\u001b[39m=\u001b[39;49mnp\u001b[39m.\u001b[39;49mones(d \u001b[39m-\u001b[39;49m \u001b[39m1\u001b[39;49m, dtype\u001b[39m=\u001b[39;49m\u001b[39mint\u001b[39;49m) \u001b[39m*\u001b[39;49m \u001b[39m30\u001b[39;49m, seed \u001b[39m=\u001b[39;49m \u001b[39m271\u001b[39;49m \u001b[39m*\u001b[39;49m d \u001b[39m+\u001b[39;49m grid_side)\n\u001b[1;32m     <a href='vscode-notebook-cell:/home/divanik/Desktop/CourseWork/Randomized_tensor_bilinear_operations/experiment4.ipynb#W2sZmlsZQ%3D%3D?line=24'>25</a>\u001b[0m answer1 \u001b[39m=\u001b[39m primitives\u001b[39m.\u001b[39mtwoSidedCuttingTTTensor(answer1, [(\u001b[39m0\u001b[39m, grid_side \u001b[39m+\u001b[39m \u001b[39m1\u001b[39m) \u001b[39mfor\u001b[39;00m _ \u001b[39min\u001b[39;00m \u001b[39mrange\u001b[39m(d)])\n\u001b[1;32m     <a href='vscode-notebook-cell:/home/divanik/Desktop/CourseWork/Randomized_tensor_bilinear_operations/experiment4.ipynb#W2sZmlsZQ%3D%3D?line=25'>26</a>\u001b[0m time2 \u001b[39m=\u001b[39m time\u001b[39m.\u001b[39mtime()\n",
      "File \u001b[0;32m~/Desktop/CourseWork/Randomized_tensor_bilinear_operations/bilinear_package/src/convolution.py:45\u001b[0m, in \u001b[0;36mapproximateCycleConvolution\u001b[0;34m(tt_tensors1, tt_tensors2, desired_ranks, seed)\u001b[0m\n\u001b[1;32m     43\u001b[0m modes \u001b[39m=\u001b[39m primitives\u001b[39m.\u001b[39mcountModes(tt_tensors1)\n\u001b[1;32m     44\u001b[0m random_tensor \u001b[39m=\u001b[39m createRandomTensor(modes, desired_ranks, seed)\n\u001b[0;32m---> 45\u001b[0m \u001b[39mreturn\u001b[39;00m hadamard_product\u001b[39m.\u001b[39;49mgeneralizedApproximateHadamardProduct(countFourier(tt_tensors1), countFourier(tt_tensors2), countInverseFourier(random_tensor), \u001b[39mlambda\u001b[39;49;00m z: np\u001b[39m.\u001b[39;49mfft\u001b[39m.\u001b[39;49mifft(z, axis\u001b[39m=\u001b[39;49m\u001b[39m2\u001b[39;49m))\n",
      "File \u001b[0;32m~/Desktop/CourseWork/Randomized_tensor_bilinear_operations/bilinear_package/src/hadamard_product.py:29\u001b[0m, in \u001b[0;36mgeneralizedApproximateHadamardProduct\u001b[0;34m(tt_tensors1, tt_tensors2, random_tensor, func)\u001b[0m\n\u001b[1;32m     26\u001b[0m size \u001b[39m=\u001b[39m \u001b[39mlen\u001b[39m(tt_tensors1)\n\u001b[1;32m     28\u001b[0m \u001b[39mfor\u001b[39;00m i \u001b[39min\u001b[39;00m \u001b[39mrange\u001b[39m(size):\n\u001b[0;32m---> 29\u001b[0m     z \u001b[39m=\u001b[39m cronMulVecL(tt_tensors1[i], tt_tensors2[i], left_tensor)\n\u001b[1;32m     30\u001b[0m     z \u001b[39m=\u001b[39m func(z)\n\u001b[1;32m     31\u001b[0m     \u001b[39mif\u001b[39;00m i \u001b[39m==\u001b[39m size \u001b[39m-\u001b[39m \u001b[39m1\u001b[39m:\n",
      "File \u001b[0;32m~/Desktop/CourseWork/Randomized_tensor_bilinear_operations/bilinear_package/src/contraction.py:32\u001b[0m, in \u001b[0;36mcronMulVecL\u001b[0;34m(a, b, c)\u001b[0m\n\u001b[1;32m     31\u001b[0m \u001b[39mdef\u001b[39;00m \u001b[39mcronMulVecL\u001b[39m(a: np\u001b[39m.\u001b[39marray, b: np\u001b[39m.\u001b[39marray, c: np\u001b[39m.\u001b[39marray):\n\u001b[0;32m---> 32\u001b[0m     p \u001b[39m=\u001b[39m np\u001b[39m.\u001b[39;49meinsum(\u001b[39m'\u001b[39;49m\u001b[39mebd,cel->dbcl\u001b[39;49m\u001b[39m'\u001b[39;49m, b, c)\n\u001b[1;32m     33\u001b[0m     \u001b[39mreturn\u001b[39;00m np\u001b[39m.\u001b[39meinsum(\u001b[39m'\u001b[39m\u001b[39mcba,dbcl->adbl\u001b[39m\u001b[39m'\u001b[39m, a, p)\n",
      "File \u001b[0;32m<__array_function__ internals>:180\u001b[0m, in \u001b[0;36meinsum\u001b[0;34m(*args, **kwargs)\u001b[0m\n",
      "File \u001b[0;32m~/.local/lib/python3.8/site-packages/numpy/core/einsumfunc.py:1359\u001b[0m, in \u001b[0;36meinsum\u001b[0;34m(out, optimize, *operands, **kwargs)\u001b[0m\n\u001b[1;32m   1357\u001b[0m     \u001b[39mif\u001b[39;00m specified_out:\n\u001b[1;32m   1358\u001b[0m         kwargs[\u001b[39m'\u001b[39m\u001b[39mout\u001b[39m\u001b[39m'\u001b[39m] \u001b[39m=\u001b[39m out\n\u001b[0;32m-> 1359\u001b[0m     \u001b[39mreturn\u001b[39;00m c_einsum(\u001b[39m*\u001b[39;49moperands, \u001b[39m*\u001b[39;49m\u001b[39m*\u001b[39;49mkwargs)\n\u001b[1;32m   1361\u001b[0m \u001b[39m# Check the kwargs to avoid a more cryptic error later, without having to\u001b[39;00m\n\u001b[1;32m   1362\u001b[0m \u001b[39m# repeat default values here\u001b[39;00m\n\u001b[1;32m   1363\u001b[0m valid_einsum_kwargs \u001b[39m=\u001b[39m [\u001b[39m'\u001b[39m\u001b[39mdtype\u001b[39m\u001b[39m'\u001b[39m, \u001b[39m'\u001b[39m\u001b[39morder\u001b[39m\u001b[39m'\u001b[39m, \u001b[39m'\u001b[39m\u001b[39mcasting\u001b[39m\u001b[39m'\u001b[39m]\n",
      "\u001b[0;31mKeyboardInterrupt\u001b[0m: "
     ]
    }
   ],
   "source": [
    "from bilinear_package.src.convolution import preciseCycleConvolution\n",
    "from newton_experiment_primitives import interpolateTTTensor, compressTTTensor\n",
    "import pandas as pd\n",
    "\n",
    "D = 40\n",
    "\n",
    "df_time = pd.DataFrame()\n",
    "df_precision = pd.DataFrame()\n",
    "\n",
    "for d in range(3, 6):\n",
    "    for grid_side in np.logspace(8, 10, 7, base = 2, dtype = int):\n",
    "        grid_size = 8 * (grid_side // 8)\n",
    "        h = (2 * D) / grid_side\n",
    "        tensor1 = create_exponential_grid(d, grid_side + 2, D + h / 2)\n",
    "        tensor2 = create_newtonial_potential_grid(d, 2 * grid_side + 2, h * grid_side + h / 2)\n",
    "        tensor1 = primitives.twoSidedPaddingTTTensor(tensor1, [(0, grid_side) for _ in range(d)])\n",
    "        print(tt.vector.from_list(tensor1))\n",
    "        print(tt.vector.from_list(tensor2))\n",
    "        precise = preciseCycleConvolution(tensor1, tensor2)\n",
    "        precise = primitives.twoSidedCuttingTTTensor(precise, [(0, grid_side + 1) for _ in range(d)])\n",
    "        precise = tt.vector.from_list(precise)\n",
    "        precise_norm = tt.vector.norm(precise)\n",
    "        time1 = time.time()\n",
    "        answer1 = approximateCycleConvolution(tensor1, tensor2, desired_ranks=np.ones(d - 1, dtype=int) * 30, seed = 271 * d + grid_side)\n",
    "        answer1 = primitives.twoSidedCuttingTTTensor(answer1, [(0, grid_side + 1) for _ in range(d)])\n",
    "        time2 = time.time()\n",
    "        answer2 = precise.round(0, 30)\n",
    "        time3 = time.time()\n",
    "        tensor1_ = tt.vector.from_list(countFourier(tensor1))\n",
    "        tensor2_ = tt.vector.from_list(countFourier(tensor2))\n",
    "        multifunc = tt.multifuncrs2([tensor1_, tensor2_], lambda x : x[:, 0] * x[:, 1], eps = 1e-6, verb = 0)\n",
    "        answer3 = countInverseFourier(tt.vector.to_list(multifunc))\n",
    "        time4 = time.time()\n",
    "        df_time[f\"{d}_{grid_side}\"] = [time2 - time1, time3 - time2, time4 - time3]\n",
    "        precision1 = tt.vector.norm(precise - tt.vector.from_list(answer1)) / precise_norm\n",
    "        precision2 = tt.vector.norm(precise - answer2) / precise_norm\n",
    "        precision3 = tt.vector.norm(precise - tt.vector.from_list(answer3)) / precise_norm \n",
    "        df_precision[f\"{d}_{grid_side}\"] = [precision1, precision2, precision3]\n",
    "        df_time.to_csv(\"experiments_results/experiment4/time\")\n",
    "        df_precision.to_csv(\"experiments_results/experiment4/precision\")\n",
    "        print(f\"{d}_{grid_side}\")"
   ]
  },
  {
   "cell_type": "code",
   "execution_count": 9,
   "metadata": {},
   "outputs": [
    {
     "name": "stdout",
     "output_type": "stream",
     "text": [
      "128\n",
      "256\n",
      "512\n",
      "1024\n"
     ]
    },
    {
     "name": "stderr",
     "output_type": "stream",
     "text": [
      "/home/divanik/Desktop/CourseWork/Randomized_tensor_bilinear_operations/newton_experiment_primitives.py:43: ComplexWarning: Casting complex values to real discards the imaginary part\n",
      "  answer[:, 2 * i, :] = kernel[:, i, :]\n",
      "/home/divanik/Desktop/CourseWork/Randomized_tensor_bilinear_operations/newton_experiment_primitives.py:45: ComplexWarning: Casting complex values to real discards the imaginary part\n",
      "  answer[:, 2 * i - 1,\n",
      "/home/divanik/Desktop/CourseWork/Randomized_tensor_bilinear_operations/newton_experiment_primitives.py:61: ComplexWarning: Casting complex values to real discards the imaginary part\n",
      "  answer[:, i, :] = kernel[:, 2 * i, :]\n"
     ]
    },
    {
     "name": "stdout",
     "output_type": "stream",
     "text": [
      "128\n",
      "256\n"
     ]
    },
    {
     "ename": "KeyboardInterrupt",
     "evalue": "",
     "output_type": "error",
     "traceback": [
      "\u001b[0;31m---------------------------------------------------------------------------\u001b[0m",
      "\u001b[0;31mKeyboardInterrupt\u001b[0m                         Traceback (most recent call last)",
      "\u001b[1;32m/home/divanik/Desktop/CourseWork/Randomized_tensor_bilinear_operations/experiment4.ipynb Cell 4\u001b[0m in \u001b[0;36m<cell line: 9>\u001b[0;34m()\u001b[0m\n\u001b[1;32m     <a href='vscode-notebook-cell:/home/divanik/Desktop/CourseWork/Randomized_tensor_bilinear_operations/experiment4.ipynb#W3sZmlsZQ%3D%3D?line=13'>14</a>\u001b[0m tensor2 \u001b[39m=\u001b[39m create_newtonial_potential_grid(d, \u001b[39m2\u001b[39m \u001b[39m*\u001b[39m grid_side \u001b[39m+\u001b[39m \u001b[39m2\u001b[39m, h \u001b[39m*\u001b[39m grid_side \u001b[39m+\u001b[39m h \u001b[39m/\u001b[39m \u001b[39m2\u001b[39m)\n\u001b[1;32m     <a href='vscode-notebook-cell:/home/divanik/Desktop/CourseWork/Randomized_tensor_bilinear_operations/experiment4.ipynb#W3sZmlsZQ%3D%3D?line=14'>15</a>\u001b[0m tensor1 \u001b[39m=\u001b[39m primitives\u001b[39m.\u001b[39mtwoSidedPaddingTTTensor(tensor1, [(\u001b[39m0\u001b[39m, grid_side) \u001b[39mfor\u001b[39;00m _ \u001b[39min\u001b[39;00m \u001b[39mrange\u001b[39m(d)])\n\u001b[0;32m---> <a href='vscode-notebook-cell:/home/divanik/Desktop/CourseWork/Randomized_tensor_bilinear_operations/experiment4.ipynb#W3sZmlsZQ%3D%3D?line=15'>16</a>\u001b[0m approx \u001b[39m=\u001b[39m approximateCycleConvolution(tensor1, tensor2, desired_ranks\u001b[39m=\u001b[39;49mnp\u001b[39m.\u001b[39;49mones(d \u001b[39m-\u001b[39;49m \u001b[39m1\u001b[39;49m, dtype\u001b[39m=\u001b[39;49m\u001b[39mint\u001b[39;49m) \u001b[39m*\u001b[39;49m \u001b[39m30\u001b[39;49m, seed \u001b[39m=\u001b[39;49m \u001b[39m271\u001b[39;49m \u001b[39m*\u001b[39;49m d \u001b[39m+\u001b[39;49m grid_side)\n\u001b[1;32m     <a href='vscode-notebook-cell:/home/divanik/Desktop/CourseWork/Randomized_tensor_bilinear_operations/experiment4.ipynb#W3sZmlsZQ%3D%3D?line=16'>17</a>\u001b[0m approx \u001b[39m=\u001b[39m primitives\u001b[39m.\u001b[39mtwoSidedCuttingTTTensor(approx, [(\u001b[39m0\u001b[39m, grid_side \u001b[39m+\u001b[39m \u001b[39m1\u001b[39m) \u001b[39mfor\u001b[39;00m _ \u001b[39min\u001b[39;00m \u001b[39mrange\u001b[39m(d)])\n\u001b[1;32m     <a href='vscode-notebook-cell:/home/divanik/Desktop/CourseWork/Randomized_tensor_bilinear_operations/experiment4.ipynb#W3sZmlsZQ%3D%3D?line=17'>18</a>\u001b[0m \u001b[39mfor\u001b[39;00m i \u001b[39min\u001b[39;00m \u001b[39mrange\u001b[39m(\u001b[39mlen\u001b[39m(approx)):\n",
      "File \u001b[0;32m~/Desktop/CourseWork/Randomized_tensor_bilinear_operations/bilinear_package/src/convolution.py:45\u001b[0m, in \u001b[0;36mapproximateCycleConvolution\u001b[0;34m(tt_tensors1, tt_tensors2, desired_ranks, seed)\u001b[0m\n\u001b[1;32m     43\u001b[0m modes \u001b[39m=\u001b[39m primitives\u001b[39m.\u001b[39mcountModes(tt_tensors1)\n\u001b[1;32m     44\u001b[0m random_tensor \u001b[39m=\u001b[39m createRandomTensor(modes, desired_ranks, seed)\n\u001b[0;32m---> 45\u001b[0m \u001b[39mreturn\u001b[39;00m hadamard_product\u001b[39m.\u001b[39;49mgeneralizedApproximateHadamardProduct(countFourier(tt_tensors1), countFourier(tt_tensors2), countInverseFourier(random_tensor), \u001b[39mlambda\u001b[39;49;00m z: np\u001b[39m.\u001b[39;49mfft\u001b[39m.\u001b[39;49mifft(z, axis\u001b[39m=\u001b[39;49m\u001b[39m2\u001b[39;49m))\n",
      "File \u001b[0;32m~/Desktop/CourseWork/Randomized_tensor_bilinear_operations/bilinear_package/src/hadamard_product.py:23\u001b[0m, in \u001b[0;36mgeneralizedApproximateHadamardProduct\u001b[0;34m(tt_tensors1, tt_tensors2, random_tensor, func)\u001b[0m\n\u001b[1;32m     21\u001b[0m \u001b[39mdef\u001b[39;00m \u001b[39mgeneralizedApproximateHadamardProduct\u001b[39m(tt_tensors1: typing\u001b[39m.\u001b[39mList[np\u001b[39m.\u001b[39marray], tt_tensors2: typing\u001b[39m.\u001b[39mList[np\u001b[39m.\u001b[39marray], random_tensor: np\u001b[39m.\u001b[39marray, func\u001b[39m=\u001b[39m\u001b[39mlambda\u001b[39;00m x: x):\n\u001b[1;32m     22\u001b[0m     answer \u001b[39m=\u001b[39m []\n\u001b[0;32m---> 23\u001b[0m     contractions \u001b[39m=\u001b[39m partialContractionsRLKronecker(\n\u001b[1;32m     24\u001b[0m         tt_tensors1L\u001b[39m=\u001b[39;49mtt_tensors1, tt_tensors1R\u001b[39m=\u001b[39;49mtt_tensors2, tt_tensors2\u001b[39m=\u001b[39;49mrandom_tensor)\n\u001b[1;32m     25\u001b[0m     left_tensor \u001b[39m=\u001b[39m np\u001b[39m.\u001b[39mones((\u001b[39m1\u001b[39m, \u001b[39m1\u001b[39m, \u001b[39m1\u001b[39m))\n\u001b[1;32m     26\u001b[0m     size \u001b[39m=\u001b[39m \u001b[39mlen\u001b[39m(tt_tensors1)\n",
      "File \u001b[0;32m~/Desktop/CourseWork/Randomized_tensor_bilinear_operations/bilinear_package/src/contraction.py:51\u001b[0m, in \u001b[0;36mpartialContractionsRLKronecker\u001b[0;34m(tt_tensors1L, tt_tensors1R, tt_tensors2)\u001b[0m\n\u001b[1;32m     49\u001b[0m \u001b[39mfor\u001b[39;00m idx, tt1L, tt1R, tt2 \u001b[39min\u001b[39;00m (\u001b[39mzip\u001b[39m(\u001b[39mreversed\u001b[39m(\u001b[39mrange\u001b[39m(\u001b[39mlen\u001b[39m(tt_tensors1L))), \u001b[39mreversed\u001b[39m(tt_tensors1L), \u001b[39mreversed\u001b[39m(tt_tensors1R), \u001b[39mreversed\u001b[39m(tt_tensors2))):\n\u001b[1;32m     50\u001b[0m     p \u001b[39m=\u001b[39m cronMulVecR(tt1L, tt1R, last)\n\u001b[0;32m---> 51\u001b[0m     last \u001b[39m=\u001b[39m np\u001b[39m.\u001b[39;49meinsum(\u001b[39m'\u001b[39;49m\u001b[39mldu,abdu->abl\u001b[39;49m\u001b[39m'\u001b[39;49m, tt2, p)\n\u001b[1;32m     52\u001b[0m     answer\u001b[39m.\u001b[39mappend(last\u001b[39m.\u001b[39mcopy())\n\u001b[1;32m     53\u001b[0m \u001b[39mreturn\u001b[39;00m \u001b[39mlist\u001b[39m(\u001b[39mreversed\u001b[39m(answer))\n",
      "File \u001b[0;32m<__array_function__ internals>:180\u001b[0m, in \u001b[0;36meinsum\u001b[0;34m(*args, **kwargs)\u001b[0m\n",
      "File \u001b[0;32m~/.local/lib/python3.8/site-packages/numpy/core/einsumfunc.py:1359\u001b[0m, in \u001b[0;36meinsum\u001b[0;34m(out, optimize, *operands, **kwargs)\u001b[0m\n\u001b[1;32m   1357\u001b[0m     \u001b[39mif\u001b[39;00m specified_out:\n\u001b[1;32m   1358\u001b[0m         kwargs[\u001b[39m'\u001b[39m\u001b[39mout\u001b[39m\u001b[39m'\u001b[39m] \u001b[39m=\u001b[39m out\n\u001b[0;32m-> 1359\u001b[0m     \u001b[39mreturn\u001b[39;00m c_einsum(\u001b[39m*\u001b[39;49moperands, \u001b[39m*\u001b[39;49m\u001b[39m*\u001b[39;49mkwargs)\n\u001b[1;32m   1361\u001b[0m \u001b[39m# Check the kwargs to avoid a more cryptic error later, without having to\u001b[39;00m\n\u001b[1;32m   1362\u001b[0m \u001b[39m# repeat default values here\u001b[39;00m\n\u001b[1;32m   1363\u001b[0m valid_einsum_kwargs \u001b[39m=\u001b[39m [\u001b[39m'\u001b[39m\u001b[39mdtype\u001b[39m\u001b[39m'\u001b[39m, \u001b[39m'\u001b[39m\u001b[39morder\u001b[39m\u001b[39m'\u001b[39m, \u001b[39m'\u001b[39m\u001b[39mcasting\u001b[39m\u001b[39m'\u001b[39m]\n",
      "\u001b[0;31mKeyboardInterrupt\u001b[0m: "
     ]
    }
   ],
   "source": [
    "from bilinear_package.src.convolution import preciseCycleConvolution\n",
    "from newton_experiment_primitives import interpolateTTTensor, compressTTTensor\n",
    "import pandas as pd\n",
    "\n",
    "D = 40\n",
    "\n",
    "df_relation = pd.DataFrame()\n",
    "\n",
    "for d in range(3, 6):\n",
    "    answer = []\n",
    "    for grid_side in np.logspace(7, 10, 4, base = 2, dtype = int):\n",
    "        h = (2 * D) / grid_side\n",
    "        tensor1 = create_exponential_grid(d, grid_side + 2, D + h / 2)\n",
    "        tensor2 = create_newtonial_potential_grid(d, 2 * grid_side + 2, h * grid_side + h / 2)\n",
    "        tensor1 = primitives.twoSidedPaddingTTTensor(tensor1, [(0, grid_side) for _ in range(d)])\n",
    "        approx = approximateCycleConvolution(tensor1, tensor2, desired_ranks=np.ones(d - 1, dtype=int) * 30, seed = 271 * d + grid_side)\n",
    "        approx = primitives.twoSidedCuttingTTTensor(approx, [(0, grid_side + 1) for _ in range(d)])\n",
    "        for i in range(len(approx)):\n",
    "            approx[i] = approx[i] * h\n",
    "        answer.append(approx)\n",
    "        print(grid_side)\n",
    "    writer = []\n",
    "    for mid in range(1, 6):\n",
    "        A = answer[mid - 1].copy()\n",
    "        B = answer[mid].copy()\n",
    "        C = answer[mid + 1].copy()\n",
    "        A = tt.vector.from_list(interpolateTTTensor(A))\n",
    "        B = tt.vector.from_list(B)\n",
    "        C = tt.vector.from_list(compressTTTensor(C))\n",
    "        writer.append(tt.vector.norm(B - C) / tt.vector.norm(A - B))\n",
    "    df_relation[d] = writer\n",
    "    df_relation.to_csv(\"experiments_results/experiment4/relation.csv\")"
   ]
  }
 ],
 "metadata": {
  "kernelspec": {
   "display_name": "Python 3.8.10 64-bit",
   "language": "python",
   "name": "python3"
  },
  "language_info": {
   "codemirror_mode": {
    "name": "ipython",
    "version": 3
   },
   "file_extension": ".py",
   "mimetype": "text/x-python",
   "name": "python",
   "nbconvert_exporter": "python",
   "pygments_lexer": "ipython3",
   "version": "3.8.10"
  },
  "orig_nbformat": 4,
  "vscode": {
   "interpreter": {
    "hash": "916dbcbb3f70747c44a77c7bcd40155683ae19c65e1c03b4aa3499c5328201f1"
   }
  }
 },
 "nbformat": 4,
 "nbformat_minor": 2
}
