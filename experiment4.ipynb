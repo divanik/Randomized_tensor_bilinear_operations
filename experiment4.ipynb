{
 "cells": [
  {
   "cell_type": "code",
   "execution_count": 3,
   "metadata": {},
   "outputs": [
    {
     "name": "stdout",
     "output_type": "stream",
     "text": [
      "The autoreload extension is already loaded. To reload it, use:\n",
      "  %reload_ext autoreload\n"
     ]
    }
   ],
   "source": [
    "%load_ext autoreload\n",
    "%autoreload 2\n",
    "\n",
    "import numpy as np\n",
    "import tt\n",
    "import experiments_stuff\n",
    "from bilinear_package.src import primitives\n",
    "from bilinear_package.src.hadamard_product import generalizedApproximateHadamardProduct\n",
    "from bilinear_package.src.convolution import approximateConvolution, preciseConvolution, countFourier, countInverseFourier, approximateCycleConvolution\n",
    "import time"
   ]
  },
  {
   "cell_type": "code",
   "execution_count": 2,
   "metadata": {},
   "outputs": [],
   "source": [
    "from newton_experiment_primitives import create_exponential_grid, create_newtonial_potential_grid"
   ]
  },
  {
   "cell_type": "code",
   "execution_count": 24,
   "metadata": {},
   "outputs": [
    {
     "name": "stdout",
     "output_type": "stream",
     "text": [
      "This is a 3-dimensional tensor \n",
      "r(0)=1, n(0)=514 \n",
      "r(1)=15, n(1)=514 \n",
      "r(2)=15, n(2)=514 \n",
      "r(3)=1 \n",
      "\n",
      "This is a 3-dimensional tensor \n",
      "r(0)=1, n(0)=514 \n",
      "r(1)=21, n(1)=514 \n",
      "r(2)=21, n(2)=514 \n",
      "r(3)=1 \n",
      "\n",
      "3_256\n",
      "This is a 3-dimensional tensor \n",
      "r(0)=1, n(0)=646 \n",
      "r(1)=16, n(1)=646 \n",
      "r(2)=16, n(2)=646 \n",
      "r(3)=1 \n",
      "\n",
      "This is a 3-dimensional tensor \n",
      "r(0)=1, n(0)=646 \n",
      "r(1)=22, n(1)=646 \n",
      "r(2)=22, n(2)=646 \n",
      "r(3)=1 \n",
      "\n",
      "3_322\n",
      "This is a 3-dimensional tensor \n",
      "r(0)=1, n(0)=814 \n",
      "r(1)=16, n(1)=814 \n",
      "r(2)=16, n(2)=814 \n",
      "r(3)=1 \n",
      "\n",
      "This is a 3-dimensional tensor \n",
      "r(0)=1, n(0)=814 \n",
      "r(1)=22, n(1)=814 \n",
      "r(2)=22, n(2)=814 \n",
      "r(3)=1 \n",
      "\n"
     ]
    },
    {
     "ename": "KeyboardInterrupt",
     "evalue": "",
     "output_type": "error",
     "traceback": [
      "\u001b[0;31m---------------------------------------------------------------------------\u001b[0m",
      "\u001b[0;31mKeyboardInterrupt\u001b[0m                         Traceback (most recent call last)",
      "\u001b[1;32m/home/divanik/Desktop/CourseWork/Randomized_tensor_bilinear_operations/experiment4.ipynb Cell 3\u001b[0m in \u001b[0;36m<cell line: 10>\u001b[0;34m()\u001b[0m\n\u001b[1;32m     <a href='vscode-notebook-cell:/home/divanik/Desktop/CourseWork/Randomized_tensor_bilinear_operations/experiment4.ipynb#W2sZmlsZQ%3D%3D?line=32'>33</a>\u001b[0m time4 \u001b[39m=\u001b[39m time\u001b[39m.\u001b[39mtime()\n\u001b[1;32m     <a href='vscode-notebook-cell:/home/divanik/Desktop/CourseWork/Randomized_tensor_bilinear_operations/experiment4.ipynb#W2sZmlsZQ%3D%3D?line=33'>34</a>\u001b[0m df_time[\u001b[39mf\u001b[39m\u001b[39m\"\u001b[39m\u001b[39m{\u001b[39;00md\u001b[39m}\u001b[39;00m\u001b[39m_\u001b[39m\u001b[39m{\u001b[39;00mgrid_side\u001b[39m}\u001b[39;00m\u001b[39m\"\u001b[39m] \u001b[39m=\u001b[39m [time2 \u001b[39m-\u001b[39m time1, time3 \u001b[39m-\u001b[39m time2, time4 \u001b[39m-\u001b[39m time3]\n\u001b[0;32m---> <a href='vscode-notebook-cell:/home/divanik/Desktop/CourseWork/Randomized_tensor_bilinear_operations/experiment4.ipynb#W2sZmlsZQ%3D%3D?line=34'>35</a>\u001b[0m precision1 \u001b[39m=\u001b[39m tt\u001b[39m.\u001b[39;49mvector\u001b[39m.\u001b[39;49mnorm(precise \u001b[39m-\u001b[39;49m tt\u001b[39m.\u001b[39;49mvector\u001b[39m.\u001b[39;49mfrom_list(answer1)) \u001b[39m/\u001b[39m precise_norm\n\u001b[1;32m     <a href='vscode-notebook-cell:/home/divanik/Desktop/CourseWork/Randomized_tensor_bilinear_operations/experiment4.ipynb#W2sZmlsZQ%3D%3D?line=35'>36</a>\u001b[0m precision2 \u001b[39m=\u001b[39m tt\u001b[39m.\u001b[39mvector\u001b[39m.\u001b[39mnorm(precise \u001b[39m-\u001b[39m answer2) \u001b[39m/\u001b[39m precise_norm\n\u001b[1;32m     <a href='vscode-notebook-cell:/home/divanik/Desktop/CourseWork/Randomized_tensor_bilinear_operations/experiment4.ipynb#W2sZmlsZQ%3D%3D?line=36'>37</a>\u001b[0m precision3 \u001b[39m=\u001b[39m tt\u001b[39m.\u001b[39mvector\u001b[39m.\u001b[39mnorm(precise \u001b[39m-\u001b[39m tt\u001b[39m.\u001b[39mvector\u001b[39m.\u001b[39mfrom_list(answer3)) \u001b[39m/\u001b[39m precise_norm \n",
      "File \u001b[0;32m~/.local/lib/python3.8/site-packages/tt/core/vector.py:419\u001b[0m, in \u001b[0;36mvector.norm\u001b[0;34m(self)\u001b[0m\n\u001b[1;32m    417\u001b[0m \u001b[39mdef\u001b[39;00m \u001b[39mnorm\u001b[39m(\u001b[39mself\u001b[39m):\n\u001b[1;32m    418\u001b[0m     \u001b[39mif\u001b[39;00m (_np\u001b[39m.\u001b[39miscomplex(\u001b[39mself\u001b[39m\u001b[39m.\u001b[39mcore)\u001b[39m.\u001b[39many()):\n\u001b[0;32m--> 419\u001b[0m         nrm \u001b[39m=\u001b[39m _tt_f90\u001b[39m.\u001b[39;49mtt_f90\u001b[39m.\u001b[39;49mztt_nrm(\u001b[39mself\u001b[39;49m\u001b[39m.\u001b[39;49mn, \u001b[39mself\u001b[39;49m\u001b[39m.\u001b[39;49mr, \u001b[39mself\u001b[39;49m\u001b[39m.\u001b[39;49mps, \u001b[39mself\u001b[39;49m\u001b[39m.\u001b[39;49mcore)\n\u001b[1;32m    420\u001b[0m     \u001b[39melse\u001b[39;00m:\n\u001b[1;32m    421\u001b[0m         nrm \u001b[39m=\u001b[39m _tt_f90\u001b[39m.\u001b[39mtt_f90\u001b[39m.\u001b[39mdtt_nrm(\n\u001b[1;32m    422\u001b[0m             \u001b[39mself\u001b[39m\u001b[39m.\u001b[39mn, \u001b[39mself\u001b[39m\u001b[39m.\u001b[39mr, \u001b[39mself\u001b[39m\u001b[39m.\u001b[39mps, _np\u001b[39m.\u001b[39mreal(\u001b[39mself\u001b[39m\u001b[39m.\u001b[39mcore))\n",
      "\u001b[0;31mKeyboardInterrupt\u001b[0m: "
     ]
    }
   ],
   "source": [
    "from bilinear_package.src.convolution import preciseCycleConvolution\n",
    "from newton_experiment_primitives import interpolateTTTensor, compressTTTensor\n",
    "import pandas as pd\n",
    "\n",
    "D = 40\n",
    "\n",
    "df_time = pd.DataFrame()\n",
    "df_precision = pd.DataFrame()\n",
    "\n",
    "for d in range(3, 6):\n",
    "    for grid_side in np.logspace(8, 10, 7, base = 2, dtype = int):\n",
    "        grid_size = 8 * (grid_side // 8)\n",
    "        h = (2 * D) / grid_side\n",
    "        tensor1 = create_exponential_grid(d, grid_side + 2, D + h / 2)\n",
    "        tensor2 = create_newtonial_potential_grid(d, 2 * grid_side + 2, h * grid_side + h / 2)\n",
    "        tensor1 = primitives.twoSidedPaddingTTTensor(tensor1, [(0, grid_side) for _ in range(d)])\n",
    "        print(tt.vector.from_list(tensor1))\n",
    "        print(tt.vector.from_list(tensor2))\n",
    "        precise = preciseCycleConvolution(tensor1, tensor2)\n",
    "        precise = primitives.twoSidedCuttingTTTensor(precise, [(0, grid_side + 1) for _ in range(d)])\n",
    "        precise = tt.vector.from_list(precise)\n",
    "        precise_norm = tt.vector.norm(precise)\n",
    "        time1 = time.time()\n",
    "        answer1 = approximateCycleConvolution(tensor1, tensor2, desired_ranks=np.ones(d - 1, dtype=int) * 30, seed = 271 * d + grid_side)\n",
    "        answer1 = primitives.twoSidedCuttingTTTensor(answer1, [(0, grid_side + 1) for _ in range(d)])\n",
    "        time2 = time.time()\n",
    "        answer2 = precise.round(0, 30)\n",
    "        time3 = time.time()\n",
    "        tensor1_ = tt.vector.from_list(countFourier(tensor1))\n",
    "        tensor2_ = tt.vector.from_list(countFourier(tensor2))\n",
    "        multifunc = tt.multifuncrs2([tensor1_, tensor2_], lambda x : x[:, 0] * x[:, 1], eps = 1e-6, verb = 0)\n",
    "        answer3 = countInverseFourier(tt.vector.to_list(multifunc))\n",
    "        time4 = time.time()\n",
    "        df_time[f\"{d}_{grid_side}\"] = [time2 - time1, time3 - time2, time4 - time3]\n",
    "        precision1 = tt.vector.norm(precise - tt.vector.from_list(answer1)) / precise_norm\n",
    "        precision2 = tt.vector.norm(precise - answer2) / precise_norm\n",
    "        precision3 = tt.vector.norm(precise - tt.vector.from_list(answer3)) / precise_norm \n",
    "        df_precision[f\"{d}_{grid_side}\"] = [precision1, precision2, precision3]\n",
    "        df_time.to_csv(\"experiments_results/experiment4/time\")\n",
    "        df_precision.to_csv(\"experiments_results/experiment4/precision\")\n",
    "        print(f\"{d}_{grid_side}\")"
   ]
  },
  {
   "cell_type": "code",
   "execution_count": 21,
   "metadata": {},
   "outputs": [
    {
     "name": "stdout",
     "output_type": "stream",
     "text": [
      "6.755760745546992e-16\n",
      "9.048028347785842e-16\n",
      "1.1514606305591267e-15\n",
      "7.465433335647055e-15\n",
      "3.5189155918100055e-15\n",
      "3.2007976440729053e-15\n",
      "3.503849306878575e-15\n"
     ]
    },
    {
     "ename": "KeyboardInterrupt",
     "evalue": "",
     "output_type": "error",
     "traceback": [
      "\u001b[0;31m---------------------------------------------------------------------------\u001b[0m",
      "\u001b[0;31mKeyboardInterrupt\u001b[0m                         Traceback (most recent call last)",
      "\u001b[1;32m/home/divanik/Desktop/CourseWork/Randomized_tensor_bilinear_operations/experiment4.ipynb Cell 4\u001b[0m in \u001b[0;36m<cell line: 10>\u001b[0;34m()\u001b[0m\n\u001b[1;32m     <a href='vscode-notebook-cell:/home/divanik/Desktop/CourseWork/Randomized_tensor_bilinear_operations/experiment4.ipynb#W3sZmlsZQ%3D%3D?line=12'>13</a>\u001b[0m tensor2 \u001b[39m=\u001b[39m create_newtonial_potential_grid(d, \u001b[39m2\u001b[39m \u001b[39m*\u001b[39m grid_side \u001b[39m+\u001b[39m \u001b[39m2\u001b[39m, h \u001b[39m*\u001b[39m grid_side \u001b[39m+\u001b[39m h \u001b[39m/\u001b[39m \u001b[39m2\u001b[39m)\n\u001b[1;32m     <a href='vscode-notebook-cell:/home/divanik/Desktop/CourseWork/Randomized_tensor_bilinear_operations/experiment4.ipynb#W3sZmlsZQ%3D%3D?line=13'>14</a>\u001b[0m tensor1 \u001b[39m=\u001b[39m primitives\u001b[39m.\u001b[39mtwoSidedPaddingTTTensor(tensor1, [(\u001b[39m0\u001b[39m, grid_side) \u001b[39mfor\u001b[39;00m _ \u001b[39min\u001b[39;00m \u001b[39mrange\u001b[39m(d)])\n\u001b[0;32m---> <a href='vscode-notebook-cell:/home/divanik/Desktop/CourseWork/Randomized_tensor_bilinear_operations/experiment4.ipynb#W3sZmlsZQ%3D%3D?line=14'>15</a>\u001b[0m precise \u001b[39m=\u001b[39m preciseCycleConvolution(tensor1, tensor2)\n\u001b[1;32m     <a href='vscode-notebook-cell:/home/divanik/Desktop/CourseWork/Randomized_tensor_bilinear_operations/experiment4.ipynb#W3sZmlsZQ%3D%3D?line=15'>16</a>\u001b[0m precise \u001b[39m=\u001b[39m primitives\u001b[39m.\u001b[39mtwoSidedCuttingTTTensor(precise, [(\u001b[39m0\u001b[39m, grid_side \u001b[39m+\u001b[39m \u001b[39m1\u001b[39m) \u001b[39mfor\u001b[39;00m _ \u001b[39min\u001b[39;00m \u001b[39mrange\u001b[39m(d)])\n\u001b[1;32m     <a href='vscode-notebook-cell:/home/divanik/Desktop/CourseWork/Randomized_tensor_bilinear_operations/experiment4.ipynb#W3sZmlsZQ%3D%3D?line=16'>17</a>\u001b[0m precise \u001b[39m=\u001b[39m tt\u001b[39m.\u001b[39mvector\u001b[39m.\u001b[39mfrom_list(precise)\n",
      "File \u001b[0;32m~/Desktop/CourseWork/Randomized_tensor_bilinear_operations/bilinear_package/src/convolution.py:39\u001b[0m, in \u001b[0;36mpreciseCycleConvolution\u001b[0;34m(tt_tensor1, tt_tensor2)\u001b[0m\n\u001b[1;32m     38\u001b[0m \u001b[39mdef\u001b[39;00m \u001b[39mpreciseCycleConvolution\u001b[39m(tt_tensor1: typing\u001b[39m.\u001b[39mList[np\u001b[39m.\u001b[39mndarray], tt_tensor2: typing\u001b[39m.\u001b[39mList[np\u001b[39m.\u001b[39mndarray]):\n\u001b[0;32m---> 39\u001b[0m     \u001b[39mreturn\u001b[39;00m countInverseFourier(hadamard_product\u001b[39m.\u001b[39;49mpreciseHadamardProduct(countFourier(tt_tensor1), countFourier(tt_tensor2)))\n",
      "File \u001b[0;32m~/Desktop/CourseWork/Randomized_tensor_bilinear_operations/bilinear_package/src/hadamard_product.py:16\u001b[0m, in \u001b[0;36mpreciseHadamardProduct\u001b[0;34m(tt_tensors1, tt_tensors2)\u001b[0m\n\u001b[1;32m     13\u001b[0m     result_kernel \u001b[39m=\u001b[39m np\u001b[39m.\u001b[39mzeros(\n\u001b[1;32m     14\u001b[0m         (a\u001b[39m.\u001b[39mshape[\u001b[39m0\u001b[39m] \u001b[39m*\u001b[39m b\u001b[39m.\u001b[39mshape[\u001b[39m0\u001b[39m], a\u001b[39m.\u001b[39mshape[\u001b[39m1\u001b[39m], a\u001b[39m.\u001b[39mshape[\u001b[39m2\u001b[39m] \u001b[39m*\u001b[39m b\u001b[39m.\u001b[39mshape[\u001b[39m2\u001b[39m]), dtype\u001b[39m=\u001b[39mnp\u001b[39m.\u001b[39mcomplex64)\n\u001b[1;32m     15\u001b[0m     \u001b[39mfor\u001b[39;00m i \u001b[39min\u001b[39;00m \u001b[39mrange\u001b[39m(a\u001b[39m.\u001b[39mshape[\u001b[39m1\u001b[39m]):\n\u001b[0;32m---> 16\u001b[0m         result_kernel[:, i, :] \u001b[39m=\u001b[39m np\u001b[39m.\u001b[39;49mkron(a[:, i, :], b[:, i, :])\n\u001b[1;32m     17\u001b[0m     answer\u001b[39m.\u001b[39mappend(result_kernel)\n\u001b[1;32m     18\u001b[0m \u001b[39mreturn\u001b[39;00m answer\n",
      "File \u001b[0;32m<__array_function__ internals>:180\u001b[0m, in \u001b[0;36mkron\u001b[0;34m(*args, **kwargs)\u001b[0m\n",
      "File \u001b[0;32m~/.local/lib/python3.8/site-packages/numpy/lib/shape_base.py:1157\u001b[0m, in \u001b[0;36mkron\u001b[0;34m(a, b)\u001b[0m\n\u001b[1;32m   1155\u001b[0m axis \u001b[39m=\u001b[39m nd\u001b[39m-\u001b[39m\u001b[39m1\u001b[39m\n\u001b[1;32m   1156\u001b[0m \u001b[39mfor\u001b[39;00m _ \u001b[39min\u001b[39;00m \u001b[39mrange\u001b[39m(nd):\n\u001b[0;32m-> 1157\u001b[0m     result \u001b[39m=\u001b[39m concatenate(result, axis\u001b[39m=\u001b[39;49maxis)\n\u001b[1;32m   1158\u001b[0m wrapper \u001b[39m=\u001b[39m get_array_prepare(a, b)\n\u001b[1;32m   1159\u001b[0m \u001b[39mif\u001b[39;00m wrapper \u001b[39mis\u001b[39;00m \u001b[39mnot\u001b[39;00m \u001b[39mNone\u001b[39;00m:\n",
      "File \u001b[0;32m<__array_function__ internals>:180\u001b[0m, in \u001b[0;36mconcatenate\u001b[0;34m(*args, **kwargs)\u001b[0m\n",
      "\u001b[0;31mKeyboardInterrupt\u001b[0m: "
     ]
    }
   ],
   "source": [
    "from bilinear_package.src.convolution import preciseCycleConvolution\n",
    "from newton_experiment_primitives import interpolateTTTensor, compressTTTensor\n",
    "import pandas as pd\n",
    "\n",
    "D = 40\n",
    "\n",
    "df_time = pd.DataFrame()\n",
    "df_precision = pd.DataFrame()\n",
    "\n",
    "for d in range(2, 6):\n",
    "    for grid_side in np.logspace(6, 10, 5, base = 2, dtype = int):\n",
    "        tensor1 = create_exponential_grid(d, grid_side + 2, D + h / 2)\n",
    "        tensor2 = create_newtonial_potential_grid(d, 2 * grid_side + 2, h * grid_side + h / 2)\n",
    "        tensor1 = primitives.twoSidedPaddingTTTensor(tensor1, [(0, grid_side) for _ in range(d)])\n",
    "        precise = preciseCycleConvolution(tensor1, tensor2)\n",
    "        precise = primitives.twoSidedCuttingTTTensor(precise, [(0, grid_side + 1) for _ in range(d)])\n",
    "        precise = tt.vector.from_list(precise)\n",
    "        precise_norm = tt.vector.norm(precise)\n",
    "        answer2 = precise.round(0, 30)\n",
    "        precision2 = tt.vector.norm(precise - answer2) / precise_norm\n",
    "        print(precision2)"
   ]
  }
 ],
 "metadata": {
  "kernelspec": {
   "display_name": "Python 3.8.10 64-bit",
   "language": "python",
   "name": "python3"
  },
  "language_info": {
   "codemirror_mode": {
    "name": "ipython",
    "version": 3
   },
   "file_extension": ".py",
   "mimetype": "text/x-python",
   "name": "python",
   "nbconvert_exporter": "python",
   "pygments_lexer": "ipython3",
   "version": "3.8.10"
  },
  "orig_nbformat": 4,
  "vscode": {
   "interpreter": {
    "hash": "916dbcbb3f70747c44a77c7bcd40155683ae19c65e1c03b4aa3499c5328201f1"
   }
  }
 },
 "nbformat": 4,
 "nbformat_minor": 2
}
