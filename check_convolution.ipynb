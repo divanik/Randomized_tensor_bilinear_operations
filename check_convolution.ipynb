{
 "cells": [
  {
   "cell_type": "code",
   "execution_count": 2,
   "metadata": {},
   "outputs": [],
   "source": [
    "import tt\n",
    "import numpy as np"
   ]
  },
  {
   "cell_type": "code",
   "execution_count": 9,
   "metadata": {},
   "outputs": [],
   "source": [
    "from bilinear_package.src.convolution import approximateConvolution, preciseConvolution"
   ]
  },
  {
   "cell_type": "code",
   "execution_count": 20,
   "metadata": {},
   "outputs": [
    {
     "name": "stdout",
     "output_type": "stream",
     "text": [
      "[[2 0 1]\n",
      " [2 0 2]\n",
      " [0 0 1]]\n"
     ]
    }
   ],
   "source": [
    "np.random.seed(11)\n",
    "\n",
    "a = np.random.randint(3, size=(1, 3, 2))\n",
    "b = np.random.randint(3, size=(2, 3, 1))\n",
    "tensor = [a, b]\n",
    "\n",
    "print(a[0, :, :] @ b[:, :, 0])"
   ]
  },
  {
   "cell_type": "code",
   "execution_count": 21,
   "metadata": {},
   "outputs": [
    {
     "name": "stdout",
     "output_type": "stream",
     "text": [
      "(1, 5, 2)\n",
      "(1, 5, 2)\n",
      "(2, 5, 1)\n",
      "(2, 5, 1)\n",
      "[[ 4.  0.  4.  0.  1.]\n",
      " [ 8.  0. 12.  0.  4.]\n",
      " [ 4.  0. 12.  0.  6.]\n",
      " [ 0.  0.  4.  0.  4.]\n",
      " [ 0. -0.  0.  0.  1.]]\n"
     ]
    }
   ],
   "source": [
    "tensor = preciseConvolution([a, b], [a, b])\n",
    "print(np.round(tt.vector.from_list(tensor).full()))"
   ]
  }
 ],
 "metadata": {
  "kernelspec": {
   "display_name": "Python 3.8.10 64-bit",
   "language": "python",
   "name": "python3"
  },
  "language_info": {
   "codemirror_mode": {
    "name": "ipython",
    "version": 3
   },
   "file_extension": ".py",
   "mimetype": "text/x-python",
   "name": "python",
   "nbconvert_exporter": "python",
   "pygments_lexer": "ipython3",
   "version": "3.8.10"
  },
  "orig_nbformat": 4,
  "vscode": {
   "interpreter": {
    "hash": "916dbcbb3f70747c44a77c7bcd40155683ae19c65e1c03b4aa3499c5328201f1"
   }
  }
 },
 "nbformat": 4,
 "nbformat_minor": 2
}
