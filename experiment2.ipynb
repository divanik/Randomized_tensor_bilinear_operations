{
 "cells": [
  {
   "cell_type": "markdown",
   "metadata": {},
   "source": [
    "# Зависимость времени работы вычисления Адамарова произведения от размера ранга"
   ]
  },
  {
   "cell_type": "code",
   "execution_count": 2,
   "metadata": {},
   "outputs": [
    {
     "name": "stdout",
     "output_type": "stream",
     "text": [
      "The autoreload extension is already loaded. To reload it, use:\n",
      "  %reload_ext autoreload\n"
     ]
    }
   ],
   "source": [
    "%load_ext autoreload\n",
    "\n",
    "%autoreload 2\n",
    "\n",
    "import time\n",
    "from collections import defaultdict\n",
    "import matplotlib.pyplot as plt\n",
    "import seaborn as sns\n",
    "import itertools\n",
    "import numpy as np\n",
    "import pandas as pd\n",
    "\n",
    "from bilinear_package.src import hadamard_product, random_tensor, rounding, primitives\n",
    "\n",
    "from experiments_stuff import get_tensor_for_experiment, default_dict_to_df"
   ]
  },
  {
   "cell_type": "code",
   "execution_count": 3,
   "metadata": {},
   "outputs": [],
   "source": [
    "answer = defaultdict(lambda : [])\n",
    "grid_modes = np.arange(5, 38, 3)\n",
    "tries = 15\n",
    "\n",
    "for i in grid_modes:\n",
    "    tt_tensors1 = []\n",
    "    tt_tensors2 = []\n",
    "    for j in range(tries):\n",
    "        tt_tensors1.append(get_tensor_for_experiment(15, 25, i, 100))\n",
    "        tt_tensors2.append(get_tensor_for_experiment(15, 25, i, 100))\n",
    "    \n",
    "    for j in range(tries):\n",
    "        time1 = time.time()\n",
    "        hadamard_product.preciseHadamardProduct(tt_tensors1=tt_tensors1[j], tt_tensors2=tt_tensors2[j])\n",
    "        time2 = time.time()\n",
    "        answer[i].append(time2 - time1)\n",
    "\n",
    "dict(answer)"
   ]
  }
 ],
 "metadata": {
  "kernelspec": {
   "display_name": "Python 3.8.10 64-bit",
   "language": "python",
   "name": "python3"
  },
  "language_info": {
   "codemirror_mode": {
    "name": "ipython",
    "version": 3
   },
   "file_extension": ".py",
   "mimetype": "text/x-python",
   "name": "python",
   "nbconvert_exporter": "python",
   "pygments_lexer": "ipython3",
   "version": "3.8.10"
  },
  "orig_nbformat": 4,
  "vscode": {
   "interpreter": {
    "hash": "916dbcbb3f70747c44a77c7bcd40155683ae19c65e1c03b4aa3499c5328201f1"
   }
  }
 },
 "nbformat": 4,
 "nbformat_minor": 2
}
