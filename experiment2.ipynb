{
 "cells": [
  {
   "cell_type": "markdown",
   "metadata": {},
   "source": [
    "# Зависимость времени работы вычисления Адамарова произведения от размера ранга"
   ]
  },
  {
   "cell_type": "code",
   "execution_count": 1,
   "metadata": {},
   "outputs": [
    {
     "name": "stdout",
     "output_type": "stream",
     "text": [
      "(1, 3, 3)\n",
      "(3, 2, 3)\n",
      "(3, 3, 1)\n",
      "[array([[ 4500.,   480., -2037.],\n",
      "       [  480.,  5437.,  5921.],\n",
      "       [-2037.,  5921.,  9990.]]), array([[  86., -109.,   32.],\n",
      "       [-109.,  182.,  -29.],\n",
      "       [  32.,  -29.,   21.]])]\n",
      "[array([[ 33., -12.,  -3.],\n",
      "       [-12.,  90.,  66.],\n",
      "       [ -3.,  66., 125.]]), array([[ 8597., -4184., -4553.],\n",
      "       [-4184.,  6745.,  2183.],\n",
      "       [-4553.,  2183.,  9896.]])]\n"
     ]
    }
   ],
   "source": [
    "%load_ext autoreload\n",
    "\n",
    "%autoreload 2\n",
    "\n",
    "import time\n",
    "from collections import defaultdict\n",
    "import matplotlib.pyplot as plt\n",
    "import seaborn as sns\n",
    "import itertools\n",
    "import numpy as np\n",
    "import pandas as pd\n",
    "\n",
    "from bilinear_package.src import hadamard_product, random_tensor, rounding, primitives\n",
    "\n",
    "from experiments_stuff import get_tensor_for_experiment, default_dict_to_df"
   ]
  },
  {
   "cell_type": "code",
   "execution_count": 3,
   "metadata": {},
   "outputs": [],
   "source": [
    "answer = defaultdict(lambda : [])\n",
    "grid_modes = np.arange(5, 38, 3)\n",
    "tries = 15\n",
    "\n",
    "for i in grid_modes:\n",
    "    tt_tensors1 = []\n",
    "    tt_tensors2 = []\n",
    "    for j in range(tries):\n",
    "        tt_tensors1.append(get_tensor_for_experiment(15, 25, i, 100))\n",
    "        tt_tensors2.append(get_tensor_for_experiment(15, 25, i, 100))\n",
    "    \n",
    "    for j in range(tries):\n",
    "        time1 = time.time()\n",
    "        hadamard_product.preciseHadamardProduct(tt_tensors1=tt_tensors1[j], tt_tensors2=tt_tensors2[j])\n",
    "        time2 = time.time()\n",
    "        answer[i].append(time2 - time1)\n",
    "\n",
    "default_dict_to_df(answer, \"experiments_results/exp2.csv\")"
   ]
  }
 ],
 "metadata": {
  "kernelspec": {
   "display_name": "Python 3.8.10 64-bit",
   "language": "python",
   "name": "python3"
  },
  "language_info": {
   "codemirror_mode": {
    "name": "ipython",
    "version": 3
   },
   "file_extension": ".py",
   "mimetype": "text/x-python",
   "name": "python",
   "nbconvert_exporter": "python",
   "pygments_lexer": "ipython3",
   "version": "3.8.10"
  },
  "orig_nbformat": 4,
  "vscode": {
   "interpreter": {
    "hash": "916dbcbb3f70747c44a77c7bcd40155683ae19c65e1c03b4aa3499c5328201f1"
   }
  }
 },
 "nbformat": 4,
 "nbformat_minor": 2
}
