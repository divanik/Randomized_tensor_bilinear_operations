{
 "cells": [
  {
   "cell_type": "code",
   "execution_count": 1,
   "metadata": {},
   "outputs": [],
   "source": [
    "import tt\n",
    "import numpy as np\n",
    "import time"
   ]
  },
  {
   "cell_type": "code",
   "execution_count": 2,
   "metadata": {},
   "outputs": [],
   "source": [
    "def orthogonalize(coresX):\n",
    "    def reshape(a, sz):\n",
    "        return np.reshape(a, sz, order=\"F\")\n",
    "    for dim in range(len(coresX) - 1):\n",
    "        cc = coresX[dim]\n",
    "        r1, n, r2 = cc.shape\n",
    "        cc, rr = np.linalg.qr(reshape(cc, (-1, r2)))\n",
    "        r2 = cc.shape[1]\n",
    "        coresX[dim] = reshape(cc, (r1, n, r2))\n",
    "        coresX[dim+1] = np.tensordot(rr, coresX[dim+1], 1)\n",
    "    return coresX"
   ]
  },
  {
   "cell_type": "code",
   "execution_count": 2,
   "metadata": {},
   "outputs": [],
   "source": [
    "def create_inverse_index_sums_tensorized(n, d, QTT_d):\n",
    "    nats = tt.vector.to_list(tt.xfun(n, QTT_d))\n",
    "    base = tt.vector.to_list(tt.ones(n, QTT_d * d))\n",
    "    X = []\n",
    "    for i in range(d):\n",
    "        tmp = base.copy()\n",
    "        for j in range(QTT_d):\n",
    "            tmp[i * QTT_d + j] = nats[j].copy()\n",
    "        X.append(tt.vector.from_list(tmp))\n",
    "    c = tt.multifuncrs2(X, lambda x: 1 / (1 + np.sum(x, axis = 1)), eps=1E-6, verb=0)\n",
    "    return c"
   ]
  },
  {
   "cell_type": "code",
   "execution_count": 11,
   "metadata": {},
   "outputs": [
    {
     "data": {
      "text/plain": [
       "This is a 60-dimensional tensor \n",
       "r(0)=1, n(0)=2 \n",
       "r(1)=2, n(1)=2 \n",
       "r(2)=4, n(2)=2 \n",
       "r(3)=8, n(3)=2 \n",
       "r(4)=11, n(4)=2 \n",
       "r(5)=12, n(5)=2 \n",
       "r(6)=13, n(6)=2 \n",
       "r(7)=15, n(7)=2 \n",
       "r(8)=16, n(8)=2 \n",
       "r(9)=17, n(9)=2 \n",
       "r(10)=19, n(10)=2 \n",
       "r(11)=20, n(11)=2 \n",
       "r(12)=21, n(12)=2 \n",
       "r(13)=22, n(13)=2 \n",
       "r(14)=24, n(14)=2 \n",
       "r(15)=23, n(15)=2 \n",
       "r(16)=23, n(16)=2 \n",
       "r(17)=23, n(17)=2 \n",
       "r(18)=23, n(18)=2 \n",
       "r(19)=23, n(19)=2 \n",
       "r(20)=23, n(20)=2 \n",
       "r(21)=23, n(21)=2 \n",
       "r(22)=22, n(22)=2 \n",
       "r(23)=22, n(23)=2 \n",
       "r(24)=22, n(24)=2 \n",
       "r(25)=22, n(25)=2 \n",
       "r(26)=23, n(26)=2 \n",
       "r(27)=23, n(27)=2 \n",
       "r(28)=23, n(28)=2 \n",
       "r(29)=22, n(29)=2 \n",
       "r(30)=21, n(30)=2 \n",
       "r(31)=21, n(31)=2 \n",
       "r(32)=21, n(32)=2 \n",
       "r(33)=21, n(33)=2 \n",
       "r(34)=21, n(34)=2 \n",
       "r(35)=21, n(35)=2 \n",
       "r(36)=21, n(36)=2 \n",
       "r(37)=21, n(37)=2 \n",
       "r(38)=21, n(38)=2 \n",
       "r(39)=21, n(39)=2 \n",
       "r(40)=21, n(40)=2 \n",
       "r(41)=21, n(41)=2 \n",
       "r(42)=21, n(42)=2 \n",
       "r(43)=21, n(43)=2 \n",
       "r(44)=21, n(44)=2 \n",
       "r(45)=20, n(45)=2 \n",
       "r(46)=20, n(46)=2 \n",
       "r(47)=20, n(47)=2 \n",
       "r(48)=19, n(48)=2 \n",
       "r(49)=18, n(49)=2 \n",
       "r(50)=18, n(50)=2 \n",
       "r(51)=18, n(51)=2 \n",
       "r(52)=17, n(52)=2 \n",
       "r(53)=16, n(53)=2 \n",
       "r(54)=15, n(54)=2 \n",
       "r(55)=14, n(55)=2 \n",
       "r(56)=13, n(56)=2 \n",
       "r(57)=12, n(57)=2 \n",
       "r(58)=8, n(58)=2 \n",
       "r(59)=4, n(59)=2 \n",
       "r(60)=1 "
      ]
     },
     "execution_count": 11,
     "metadata": {},
     "output_type": "execute_result"
    }
   ],
   "source": [
    "create_inverse_index_sums_tensorized(2, 4, 15)"
   ]
  },
  {
   "cell_type": "code",
   "execution_count": 3,
   "metadata": {},
   "outputs": [],
   "source": [
    "def average_rank(T):\n",
    "    K = tt.vector.to_list(T)\n",
    "    sum0 = 0\n",
    "    size = 0\n",
    "    for i in range(len(K) - 1):\n",
    "        sum0 += K[i].shape[2]\n",
    "        size += 1\n",
    "    return sum0 / size\n",
    "\n",
    "def maximal_rank(T):\n",
    "    K = tt.vector.to_list(T)\n",
    "    maxi = 0\n",
    "    for i in range(len(K) - 1):\n",
    "        maxi = max(K[i].shape[2], maxi)\n",
    "    return maxi"
   ]
  },
  {
   "cell_type": "code",
   "execution_count": 16,
   "metadata": {},
   "outputs": [
    {
     "name": "stdout",
     "output_type": "stream",
     "text": [
      "41\n",
      "\n",
      "28\n",
      "\n",
      "24\n"
     ]
    }
   ],
   "source": [
    "C = create_inverse_index_sums_tensorized(2, 4, 15)\n",
    "B = create_inverse_index_sums_tensorized(2, 3, 20)\n",
    "A = create_inverse_index_sums_tensorized(2, 2, 30)\n",
    "\n",
    "print(maximal_rank(A))\n",
    "print()\n",
    "print(maximal_rank(B))\n",
    "print()\n",
    "print(maximal_rank(C))"
   ]
  },
  {
   "cell_type": "code",
   "execution_count": 28,
   "metadata": {},
   "outputs": [],
   "source": [
    "from bilinear_package.src.contraction import partialContractionsRLKronecker\n",
    "\n",
    "def count_scalar_product(A, B, R, norm):\n",
    "    sc_prod = partialContractionsRLKronecker(A, B, R)\n",
    "    norm_R = tt.vector.norm(tt.vector.from_list(R)) ** 2\n",
    "    return np.sqrt(np.abs(norm_R + norm ** 2 - 2 * sc_prod[0][0, 0, 0])) / norm"
   ]
  },
  {
   "cell_type": "code",
   "execution_count": 29,
   "metadata": {},
   "outputs": [],
   "source": [
    "from bilinear_package.src.hadamard_product import approximateHadamardProduct\n",
    "import pandas as pd\n",
    "\n",
    "def experiment():\n",
    "    C = create_inverse_index_sums_tensorized(2, 4, 15)\n",
    "    B = create_inverse_index_sums_tensorized(2, 3, 20)\n",
    "    A = create_inverse_index_sums_tensorized(2, 2, 30)\n",
    "    k = 0\n",
    "    df_time = pd.DataFrame()\n",
    "    df_precision = pd.DataFrame()\n",
    "    for T in [C, B, A]:\n",
    "        X = T * T\n",
    "        norm = tt.vector.norm(X)\n",
    "        r = maximal_rank(T)\n",
    "        for rank in range(10, 47, 4):\n",
    "            ranks = [rank for _ in range(len(tt.vector.to_list(T)) - 1)]\n",
    "            time1 = time.time()\n",
    "            answer1 = approximateHadamardProduct(tt.vector.to_list(T), tt.vector.to_list(T), desired_ranks = ranks, seed= 21 + rank * 3 + k )\n",
    "            U = tt.vector.to_list(T)\n",
    "            time2 = time.time()\n",
    "            answer2 = tt.vector.to_list(X.round(0, rank))\n",
    "            time3 = time.time()\n",
    "            answer3 = tt.vector.to_list(tt.multifuncrs2([T, T], lambda x : x[:, 0] * x[:, 1], eps=1e-6, verb = 0))\n",
    "            time4 = time.time()\n",
    "            # precision1 = count_scalar_product(U, U, answer1, norm)\n",
    "            # precision2 = count_scalar_product(U, U, answer2, norm)\n",
    "            # precision3 = count_scalar_product(U, U, answer3, norm)\n",
    "            precision1 = tt.vector.norm(X - tt.vector.from_list(answer1)) / norm\n",
    "            precision2 = tt.vector.norm(X - tt.vector.from_list(answer2)) / norm\n",
    "            precision3 = tt.vector.norm(X - tt.vector.from_list(answer3)) / norm\n",
    "            df_time[f\"{r}_{rank}\"] = [time2 - time1, time3 - time2, time4 - time3]\n",
    "            df_precision[f\"{r}_{rank}\"] = [precision1, precision2, precision3]\n",
    "            df_time.to_csv(\"experiments_results/experiment3/time.csv\")\n",
    "            df_precision.to_csv(\"experiments_results/experiment3/presicion.csv\")\n",
    "        k += 1"
   ]
  },
  {
   "cell_type": "code",
   "execution_count": 52,
   "metadata": {},
   "outputs": [],
   "source": [
    "experiment()"
   ]
  },
  {
   "cell_type": "code",
   "execution_count": 4,
   "metadata": {},
   "outputs": [],
   "source": [
    "from bilinear_package.src.hadamard_product import approximateHadamardProduct\n",
    "import pandas as pd\n",
    "\n",
    "def experiment_oversampling():\n",
    "    A = create_inverse_index_sums_tensorized(2, 2, 30)\n",
    "    k = 0\n",
    "    for T in [A]:\n",
    "        U = tt.vector.to_list(T)\n",
    "        X = T * T\n",
    "        norm = tt.vector.norm(X)\n",
    "        r = maximal_rank(T)\n",
    "        by_rank = 60\n",
    "        answer = []\n",
    "        df = pd.DataFrame()\n",
    "        answer = [0 for _ in range(5)]\n",
    "        for rank in range(5, 61):\n",
    "            ranks = [rank for _ in range(len(tt.vector.to_list(T)) - 1)]\n",
    "            answer.append(approximateHadamardProduct(tt.vector.to_list(T), tt.vector.to_list(T), desired_ranks = ranks, seed = 21 + rank * 3 + k))\n",
    "        for base_rank in range(5, 51, 2):\n",
    "            column = []\n",
    "            for oversampling in [0, 1, 2, 4, 6, 9]:\n",
    "                answer1 = tt.vector.to_list(tt.vector.from_list(answer[base_rank + oversampling]).round(0, base_rank))\n",
    "                precision1 = tt.vector.norm(X - tt.vector.from_list(answer1)) / norm\n",
    "                column.append(precision1)\n",
    "            df[base_rank] = column\n",
    "            df.to_csv(f\"experiments_results/experiment3/oversampling.csv\")\n",
    "        k += 1"
   ]
  },
  {
   "cell_type": "code",
   "execution_count": 5,
   "metadata": {},
   "outputs": [],
   "source": [
    "experiment_oversampling()"
   ]
  }
 ],
 "metadata": {
  "kernelspec": {
   "display_name": "Python 3.8.10 64-bit",
   "language": "python",
   "name": "python3"
  },
  "language_info": {
   "codemirror_mode": {
    "name": "ipython",
    "version": 3
   },
   "file_extension": ".py",
   "mimetype": "text/x-python",
   "name": "python",
   "nbconvert_exporter": "python",
   "pygments_lexer": "ipython3",
   "version": "3.8.10"
  },
  "orig_nbformat": 4,
  "vscode": {
   "interpreter": {
    "hash": "916dbcbb3f70747c44a77c7bcd40155683ae19c65e1c03b4aa3499c5328201f1"
   }
  }
 },
 "nbformat": 4,
 "nbformat_minor": 2
}
